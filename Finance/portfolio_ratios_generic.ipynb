{
 "cells": [
  {
   "cell_type": "code",
   "execution_count": null,
   "metadata": {},
   "outputs": [],
   "source": [
    "import numpy as np\n",
    "import pandas as pd\n",
    "import matplotlib.pyplot as plt\n",
    "import matplotlib.dates as mdates\n",
    "import seaborn as sns\n",
    "from scipy import integrate\n",
    "import math"
   ]
  },
  {
   "cell_type": "code",
   "execution_count": null,
   "metadata": {},
   "outputs": [],
   "source": [
    "variables = locals()\n",
    "tickers = ['VIX','AGG','DBC','VTI']\n",
    "def load_data(tickers):\n",
    "    for ticker in tickers:\n",
    "        variables[\"{0}\".format(ticker)] = pd.read_excel('data_'+ticker+'.xlsx')\n",
    "def fuse_data(tickers):\n",
    "    appended_data = [] #list to store data \n",
    "    for ticker in tickers:\n",
    "        appended_data.append(variables[ticker]['Close'])\n",
    "    variables[\"df\"] = pd.DataFrame(appended_data).T\n",
    "    variables[\"df\"].columns = tickers\n",
    "    variables[\"df\"] = variables[\"df\"].dropna()\n",
    "def sharpe_calculation(tickers,window):\n",
    "    for ticker in tickers:\n",
    "        df[ticker+\"_return\"] = (df[ticker]/df[ticker].shift(window) -1)\n",
    "        df[ticker+\"_std\"] = df[ticker].pct_change().rolling(window).std()\n",
    "        df[ticker+\"_sharpe\"] = df[ticker+\"_return\"]/df[ticker+\"_std\"]\n",
    "def allocation_calculation(tickers,weights,window):\n",
    "    lst = []\n",
    "    for ticker in tickers:\n",
    "        lst.append(ticker+'_return')\n",
    "    for key in weights:\n",
    "        df[key+'_return'] = (df[lst] * weights[key]).sum(axis=1)\n",
    "        df[key+'_std'] =  df[key+'_return'].rolling(window).std()\n",
    "        df[key+'_sharpe'] = df[key+'_return']/df[key+'_std']\n",
    "        df[key+'_downsidedev'] = math.nan\n",
    "        for x in range(window,len(df[key+'_return'])):\n",
    "            loockback_returns = df[key+'_return'][x-window:x]\n",
    "            negative_lookback_returns = loockback_returns.where(loockback_returns < 0).dropna()\n",
    "            df[key+'_downsidedev'].loc[x] = negative_lookback_returns.std()\n",
    "        df[key+'_sortino'] =  df[key+\"_return\"]/df[key+\"_downsidedev\"]"
   ]
  },
  {
   "cell_type": "code",
   "execution_count": 3,
   "metadata": {},
   "outputs": [],
   "source": [
    "load_data(tickers)\n",
    "fuse_data(tickers)"
   ]
  },
  {
   "cell_type": "code",
   "execution_count": 45,
   "metadata": {},
   "outputs": [],
   "source": [
    "sharpe_calculation(tickers,50)"
   ]
  },
  {
   "cell_type": "code",
   "execution_count": 57,
   "metadata": {},
   "outputs": [],
   "source": [
    "weights = {'allocation1' : [0.25,0.25,0.25,0.25],'allocation2' : [0.5,0.1,0.2,0.2], 'allocation3' : [0.1,0.5,0.2,0.2], 'allocation4' : [0.4,0.4,0.1,0.1]}"
   ]
  },
  {
   "cell_type": "code",
   "execution_count": 170,
   "metadata": {},
   "outputs": [],
   "source": [
    "allocation_calculation(tickers,weights,50)"
   ]
  }
 ],
 "metadata": {
  "kernelspec": {
   "display_name": "Python 3",
   "language": "python",
   "name": "python3"
  },
  "language_info": {
   "codemirror_mode": {
    "name": "ipython",
    "version": 3
   },
   "file_extension": ".py",
   "mimetype": "text/x-python",
   "name": "python",
   "nbconvert_exporter": "python",
   "pygments_lexer": "ipython3",
   "version": "3.8.5"
  }
 },
 "nbformat": 4,
 "nbformat_minor": 4
}
