{
 "cells": [
  {
   "cell_type": "markdown",
   "metadata": {
    "id": "DA9IChywsWYz"
   },
   "source": [
    "**First: I start by imports biblios**"
   ]
  },
  {
   "cell_type": "code",
   "execution_count": 4,
   "metadata": {
    "id": "JV_Ns0UbrAqO"
   },
   "outputs": [
    {
     "name": "stderr",
     "output_type": "stream",
     "text": [
      "* Owlready2 * Warning: optimized Cython parser module 'owlready2_optimized' is not available, defaulting to slower Python implementation\n"
     ]
    }
   ],
   "source": [
    "import PyPDF2\n",
    "import numpy as np\n",
    "import pandas as pd\n",
    "import nltk\n",
    "import re\n",
    "import string\n",
    "from nltk.corpus import stopwords, brown\n",
    "from nltk.tokenize import word_tokenize, sent_tokenize, RegexpTokenizer\n",
    "from nltk.stem import WordNetLemmatizer\n",
    "from spacy.matcher import Matcher \n",
    "from spacy.tokens import Span \n",
    "from spacy import displacy \n",
    "import rdflib\n",
    "from rdflib\timport Namespace\n",
    "from owlready2 import *"
   ]
  },
  {
   "cell_type": "markdown",
   "metadata": {
    "id": "R8eeuyUasmlE"
   },
   "source": [
    "# 1. Data extraction"
   ]
  },
  {
   "cell_type": "code",
   "execution_count": 7,
   "metadata": {
    "id": "FuV_CvNXrAqu"
   },
   "outputs": [],
   "source": [
    "def create_df(debut_page,fin_page) :\n",
    "   data = []\n",
    "   for i in range(debut_page,fin_page):\n",
    "      pageText = PMBOKReader.getPage(i).extractText()\n",
    "      data.append(sent_tokenize(pageText)[2:])\n",
    "   L=[]\n",
    "   for i in range(len(data)):\n",
    "      for j in range(len((data[i]))):\n",
    "          L.append(data[i][j])\n",
    "   df = pd.DataFrame({'sentence' : L})\n",
    "   return df"
   ]
  },
  {
   "cell_type": "code",
   "execution_count": 8,
   "metadata": {
    "id": "LWbXZpllrAqx"
   },
   "outputs": [],
   "source": [
    "def extract(start,end):    \n",
    "    text  = ''\n",
    "    # Lets loop through, to read each page from the pdf file\n",
    "    while(start < end):\n",
    "        # Get the specified number of pages in the document\n",
    "        mani_page  = PMBOKReader.getPage(start)\n",
    "        # Process the next page\n",
    "        start += 1\n",
    "        # Extract the text from the page\n",
    "        text += mani_page.extractText()\n",
    "    return text"
   ]
  },
  {
   "cell_type": "code",
   "execution_count": 9,
   "metadata": {
    "id": "kVlBgpy7rAqz"
   },
   "outputs": [],
   "source": [
    "variables = locals()\n",
    "pages_dict = {'plan_risk_management':(313,319),'Identify_Risks':(319,328),'perform_qualitative_risk_analysis':(328,334),'perform_quantitative_risk_analysis':(334,342),'plan_risk_Responses':(342,349),'Control_Risks':(349,355)}\n",
    "for pages in pages_dict:\n",
    "    variables['text_'+pages] = extract(pages_dict[pages][0],pages_dict[pages][1])"
   ]
  },
  {
   "cell_type": "markdown",
   "metadata": {
    "id": "X5eVscoq4gEC"
   },
   "source": [
    "# 2. Data preprocessing"
   ]
  },
  {
   "cell_type": "markdown",
   "metadata": {
    "id": "c5-pTU_T4i6X"
   },
   "source": [
    "## 2.1 removing undesirable and specific characters"
   ]
  },
  {
   "cell_type": "code",
   "execution_count": 10,
   "metadata": {
    "id": "jLuMLSeGrAq2"
   },
   "outputs": [],
   "source": [
    "def remove_special_caracters(text):\n",
    "    text=text.replace('\\n A Guide to the Project Management Body of Knowledge (PMBOK\\n® Guide) Œ Fifth Edition','',123)\n",
    "    text=text.replace('Licensed To: Jorge Diego Fuentes Sanchez PMI MemberID: 2399412This copy is a PMI Member benefit, not for distribution, sale, or reproduction.','',123)\n",
    "    text = text.replace(\"\\nem\", \" \").replace(\"™\", \"'\").replace(\"˚\",\" \").replace(\"œ\", \" \").replace(\"š\",\" \")\n",
    "    text=text.replace('\\n',' ') \n",
    "    text=text.lower()\n",
    "    return text"
   ]
  },
  {
   "cell_type": "markdown",
   "metadata": {
    "id": "FBr5Yh0I5EDE"
   },
   "source": [
    "##2.2 Remove undesired ponctuation"
   ]
  },
  {
   "cell_type": "code",
   "execution_count": 11,
   "metadata": {
    "id": "8D9BcconrAq8"
   },
   "outputs": [],
   "source": [
    "def remove_punctuation(text):\n",
    "    # replacing the punctuations with no space, \n",
    "    # which in effect deletes the punctuation marks \n",
    "    translator = str.maketrans('', '', '!\".?#$%&\\'()*+,-/:;<=>@[\\\\]^_`{|}~')\n",
    "    # return the text stripped of punctuation marks\n",
    "    return text.translate(translator)"
   ]
  },
  {
   "cell_type": "markdown",
   "metadata": {
    "id": "gUk3YkFy5But"
   },
   "source": [
    "##2.3 Remove stopwords"
   ]
  },
  {
   "cell_type": "code",
   "execution_count": 12,
   "metadata": {
    "id": "D6dOK8XnrArB"
   },
   "outputs": [],
   "source": [
    "\n",
    "import nltk\n",
    "import re\n",
    "corpus=[]\n",
    "from nltk.corpus import stopwords\n",
    "sw = set(stopwords.words('english')) -set([\n",
    "    \"you're\", \"you've\", \"she's\", \"it's\", 'who', 'whom', 'am',  'is', 'are', 'was', 'were', 'be','been',\n",
    "    'being', 'have', 'has', 'had', 'having', 'do', 'does', 'did', 'doing',\"a\",\n",
    "    'other', 'some',  'no', 'nor', 'not', 'own', 'same',  's', 't', 'can', 'don', \"don't\", 'should',\n",
    "    \"should've\", 'now', 'd', 'll', 'm', 'o', 're', 've', 'y', 'ain', 'aren', \"aren't\", 'couldn', \"couldn't\", \n",
    "    'didn', \"didn't\", 'doesn', \"doesn't\", 'hadn', \"hadn't\", 'hasn', \"hasn't\", \"haven't\", 'isn', \"isn't\",\n",
    "    'will','such','as', 'weren', \"weren't\", 'won', \"won't\", 'wouldn', \"wouldn't\",'can'])\n",
    "def stopwords(text): \n",
    "# Removing words that contain numbers\n",
    "    text= re.sub(\"\\S*\\d\\S*\", \" \", text).strip()\n",
    "    text =re.sub('https?://\\S+|www\\.\\S+', ' ', text)\n",
    "    text=re.sub(\"\\d+\", \" \", text)\n",
    "    text = [word for word in text.split() if word not in sw]\n",
    "    j=\" \".join(text)\n",
    "    corpus.append(j)\n",
    "    return j"
   ]
  },
  {
   "cell_type": "markdown",
   "metadata": {
    "id": "08dkEYSw5mdZ"
   },
   "source": [
    "clean data"
   ]
  },
  {
   "cell_type": "code",
   "execution_count": 13,
   "metadata": {
    "id": "4hqzApErrArG"
   },
   "outputs": [],
   "source": [
    "def clean_data(text):\n",
    "    text = remove_special_caracters(text)\n",
    "    text = remove_punctuation(text)\n",
    "    text = stopwords(text)\n",
    "    return text"
   ]
  },
  {
   "cell_type": "code",
   "execution_count": 14,
   "metadata": {
    "id": "XciE9t4orArK"
   },
   "outputs": [],
   "source": [
    "processes = ['text_plan_risk_management',\n",
    "'text_Identify_Risks',\n",
    "'text_perform_qualitative_risk_analysis',\n",
    "'text_perform_quantitative_risk_analysis',\n",
    "'text_plan_risk_Responses',\n",
    "'text_Control_Risks']\n",
    "all_text = ''\n",
    "for process in processes:\n",
    "    variables[process] = clean_data(variables[process])\n",
    "    all_text +=variables[process]"
   ]
  },
  {
   "cell_type": "markdown",
   "metadata": {
    "id": "Q0wW8Lvk6CBv"
   },
   "source": [
    "## 2.4 Tokenization"
   ]
  },
  {
   "cell_type": "code",
   "execution_count": 16,
   "metadata": {
    "id": "OT-JdqpSrArR"
   },
   "outputs": [],
   "source": [
    "sentences = sent_tokenize(all_text)\n",
    "words = word_tokenize(all_text)"
   ]
  },
  {
   "cell_type": "markdown",
   "metadata": {
    "id": "_l3GymWJ6KZF"
   },
   "source": [
    "## 2.5 Lemmetization and Stemming"
   ]
  },
  {
   "cell_type": "code",
   "execution_count": 19,
   "metadata": {
    "id": "wGEX2K84rArT"
   },
   "outputs": [],
   "source": [
    "import gensim\n",
    "import nltk\n",
    "from nltk.stem import SnowballStemmer,WordNetLemmatizer\n",
    "def lemmatize(text):\n",
    "    stemmer=SnowballStemmer('english')\n",
    "    return stemmer.stem(WordNetLemmatizer().lemmatize(text, pos='v'))\n",
    "def preprocess(text):\n",
    "    result = []\n",
    "    for token in gensim.utils.simple_preprocess(text):\n",
    "        result.append(lemmatize(token))\n",
    "    return result"
   ]
  },
  {
   "cell_type": "code",
   "execution_count": 21,
   "metadata": {
    "id": "b5V-yyDUrArX"
   },
   "outputs": [],
   "source": [
    "# pos with spacy\n",
    "import en_core_web_sm\n",
    "nlp = en_core_web_sm.load()"
   ]
  },
  {
   "cell_type": "code",
   "execution_count": 22,
   "metadata": {
    "id": "OaZONm04rArY"
   },
   "outputs": [],
   "source": [
    "import spacy\n",
    "#nlp = spacy.load(\"en_core_web_sm\") \n",
    "\n",
    "doc1 = nlp(all_text)"
   ]
  },
  {
   "cell_type": "markdown",
   "metadata": {
    "id": "za7Ke1wn7HgN"
   },
   "source": [
    "**100 commonly occurring words with their frequencies**"
   ]
  },
  {
   "cell_type": "code",
   "execution_count": 25,
   "metadata": {
    "id": "S5OVr1nGrArc"
   },
   "outputs": [
    {
     "name": "stdout",
     "output_type": "stream",
     "text": [
      "[('project', 383), ('risk', 252), ('management', 245), ('a', 136), ('be', 128), ('communications', 120), ('process', 120), ('information', 119), ('plan', 111), ('is', 107)]\n"
     ]
    }
   ],
   "source": [
    "from collections import Counter\n",
    "complete_doc = nlp(all_text)\n",
    "words = [token.text for token in complete_doc if  not token.is_punct]\n",
    "word_freq = Counter(words)\n",
    "# 100 commonly occurring words with their frequencies\n",
    "common_words = word_freq.most_common(100)\n",
    "print (common_words[:10])"
   ]
  },
  {
   "cell_type": "markdown",
   "metadata": {
    "id": "wLHh3fIQsUXa"
   },
   "source": [
    "**Unique words**"
   ]
  },
  {
   "cell_type": "code",
   "execution_count": 26,
   "metadata": {
    "id": "Rft-1njbrArf"
   },
   "outputs": [
    {
     "name": "stdout",
     "output_type": "stream",
     "text": [
      "['skills', 'tolistening', 'effectivelyquestioning', 'probing', 'educating', 'fact˜nding', 'con˜rm', 'setting', 'managing', 'persuading']\n"
     ]
    }
   ],
   "source": [
    "unique_words = [word for (word, freq) in word_freq.items() if freq == 1]\n",
    "print (unique_words[:10])"
   ]
  },
  {
   "cell_type": "markdown",
   "metadata": {
    "id": "zYAbiv0A7Z2e"
   },
   "source": [
    "**list of Verb tokens**"
   ]
  },
  {
   "cell_type": "code",
   "execution_count": 27,
   "metadata": {
    "id": "VzVejli3rArh"
   },
   "outputs": [
    {
     "name": "stdout",
     "output_type": "stream",
     "text": [
      "Verbs: ['effectivelyquestioning', 'probing', 'ensure', 'educating', 'be', 'identify', 'setting', 'managing', 'persuading', 'perform']\n"
     ]
    }
   ],
   "source": [
    "print(\"Verbs:\", [token.text for token in doc1 if token.pos_ == \"VERB\"][:10]) "
   ]
  },
  {
   "cell_type": "markdown",
   "metadata": {
    "id": "m3awgX9x7rn6"
   },
   "source": [
    "**POS with nltk**"
   ]
  },
  {
   "cell_type": "markdown",
   "metadata": {
    "id": "rKxNUIsx7vaQ"
   },
   "source": [
    "- Visualise dependency parse using Displacy (Python)"
   ]
  },
  {
   "cell_type": "code",
   "execution_count": 28,
   "metadata": {
    "id": "wKyP0SnXrAri"
   },
   "outputs": [],
   "source": [
    "tags=nltk.pos_tag(all_text.split())"
   ]
  },
  {
   "cell_type": "markdown",
   "metadata": {
    "id": "jYqQfuA88QWQ"
   },
   "source": [
    "## 2.6 Chunking with NLTK"
   ]
  },
  {
   "cell_type": "markdown",
   "metadata": {
    "id": "mj-x2RVh8WBB"
   },
   "source": [
    "- Extract entities and relations between them"
   ]
  },
  {
   "cell_type": "markdown",
   "metadata": {
    "id": "77SwHiw18bs2"
   },
   "source": [
    "- using biblio nltk"
   ]
  },
  {
   "cell_type": "markdown",
   "metadata": {
    "id": "i2ZgiuVd8ir6"
   },
   "source": [
    "#### extract sentences from text having specific patern \n",
    "\n",
    "-  we will extract text with specific pattern. So we startedd with a simple pattern which describe a sentence in this format  \n",
    " **NN(Noun) + (VBZ)Verb + Adjective(ADJ) + Noun(NN)**"
   ]
  },
  {
   "cell_type": "code",
   "execution_count": null,
   "metadata": {
    "id": "W7qqHsoQrArj",
    "scrolled": true
   },
   "outputs": [],
   "source": [
    "import nltk\n",
    "#\"NP:{<DT>?<JJ>*<NN>}\"\n",
    "grammar=\"Chunk:{<NN.?><VB.?><JJ>*<NN.?>}\"\n",
    "chunkParser = nltk.RegexpParser(grammar)\n",
    "chunked = chunkParser.parse(tags)\n",
    "print(chunked)"
   ]
  },
  {
   "cell_type": "code",
   "execution_count": 30,
   "metadata": {
    "id": "U6dlnoElrArl"
   },
   "outputs": [],
   "source": [
    "from nltk.corpus import conll2000\n",
    "from nltk.chunk import ChunkParserI#Define the chunker class\n",
    "from nltk.chunk.util import tree2conlltags,conlltags2tree\n",
    "from nltk.tag import UnigramTagger, BigramTagger\n",
    "data= conll2000.chunked_sents()"
   ]
  },
  {
   "cell_type": "code",
   "execution_count": 31,
   "metadata": {
    "id": "zhAUlui1rArm"
   },
   "outputs": [],
   "source": [
    "train_data=data[:10900]\n",
    "test_data=data[10900:]"
   ]
  },
  {
   "cell_type": "code",
   "execution_count": 32,
   "metadata": {
    "id": "xT4YQPXQrArn"
   },
   "outputs": [],
   "source": [
    "def conll_tag_chunks(chunk_sents):\n",
    "    tagged_sents = [tree2conlltags(tree) for tree in chunk_sents]\n",
    "    return [[(t, c) for (w, t, c) in sent] for sent in tagged_sents]"
   ]
  },
  {
   "cell_type": "code",
   "execution_count": 33,
   "metadata": {
    "id": "3m9zDjQWrAro"
   },
   "outputs": [],
   "source": [
    "def combined_tagger(train_data, taggers, backoff=None):\n",
    "    for tagger in taggers:\n",
    "        backoff = tagger(train_data, backoff=backoff)\n",
    "    return backoff"
   ]
  },
  {
   "cell_type": "code",
   "execution_count": 34,
   "metadata": {
    "id": "CgfmB13krAro"
   },
   "outputs": [],
   "source": [
    "#Define the chunker class\n",
    "class NGramTagChunker(ChunkParserI):\n",
    "    \n",
    "    def __init__(self,train_sentences,tagger_classes=[UnigramTagger,BigramTagger]):\n",
    "        train_sent_tags=conll_tag_chunks(train_sentences)\n",
    "        self.chunk_tagger=combined_tagger(train_sent_tags,tagger_classes)\n",
    "        \n",
    "    def parse(self,tagged_sentence):\n",
    "        if not tagged_sentence:\n",
    "            return None\n",
    "        \n",
    "        pos_tags=[tag for word, tag in tagged_sentence]\n",
    "        chunk_pos_tags=self.chunk_tagger.tag(pos_tags)\n",
    "        chunk_tags=[chunk_tag for (pos_tag,chunk_tag) in chunk_pos_tags]\n",
    "        wpc_tags=[(word,pos_tag,chunk_tag) for ((word,pos_tag),chunk_tag) in zip(tagged_sentence,chunk_tags)]\n",
    "        \n",
    "        return conlltags2tree(wpc_tags)   "
   ]
  },
  {
   "cell_type": "code",
   "execution_count": 35,
   "metadata": {
    "id": "g47YYRs3rArp"
   },
   "outputs": [
    {
     "name": "stdout",
     "output_type": "stream",
     "text": [
      "ChunkParse score:\n",
      "    IOB Accuracy:  90.0%%\n",
      "    Precision:     82.1%%\n",
      "    Recall:        86.3%%\n",
      "    F-Measure:     84.1%%\n"
     ]
    }
   ],
   "source": [
    "ntc=NGramTagChunker(train_data)\n",
    "\n",
    "#evaluate chunker model performance\n",
    "print(ntc.evaluate(test_data))"
   ]
  },
  {
   "cell_type": "markdown",
   "metadata": {
    "id": "LeAvhs2XBrHQ"
   },
   "source": [
    "## 2.7 Bag of words"
   ]
  },
  {
   "cell_type": "code",
   "execution_count": 36,
   "metadata": {
    "id": "PKBXq1zkrArq"
   },
   "outputs": [],
   "source": [
    "import gensim\n",
    "from gensim import corpora\n",
    "\n",
    "\n",
    "# turn our tokenized documents into a id <-> term dictionary\n",
    "dictionary = corpora.Dictionary([all_text.split()])\n",
    "# convert tokenized documents into a document-term matrix\n",
    "bow_corpus = [dictionary.doc2bow(text) for text in [all_text.split()]]"
   ]
  },
  {
   "cell_type": "code",
   "execution_count": null,
   "metadata": {
    "id": "iogwlyKMrArs",
    "scrolled": true
   },
   "outputs": [],
   "source": [
    "bow_doc_0 = bow_corpus[0]\n",
    "for i in range(len(bow_doc_0)):\n",
    "    print(\"Word {} (\\\"{}\\\") appears {} time.\".format(bow_doc_0[i][0], \n",
    "                                               dictionary[bow_doc_0[i][0]], \n",
    "bow_doc_0[i][1]))"
   ]
  },
  {
   "cell_type": "markdown",
   "metadata": {
    "id": "Le863AREB2pt"
   },
   "source": [
    "# 3. Data analysis"
   ]
  },
  {
   "cell_type": "markdown",
   "metadata": {
    "id": "mJOMegreB8qJ"
   },
   "source": [
    "## 3.1 TF-ID"
   ]
  },
  {
   "cell_type": "code",
   "execution_count": 40,
   "metadata": {
    "id": "d74akf6frAru",
    "outputId": "1af4899d-4fd3-4625-cc5c-3365d8a908b4"
   },
   "outputs": [
    {
     "data": {
      "text/plain": [
       "(1, 1483)"
      ]
     },
     "execution_count": 40,
     "metadata": {},
     "output_type": "execute_result"
    }
   ],
   "source": [
    "#instantiate CountVectorizer() \n",
    "from sklearn.feature_extraction.text import TfidfTransformer \n",
    "from sklearn.feature_extraction.text  import CountVectorizer\n",
    "cv=CountVectorizer() \n",
    "# this steps generates word counts for the words in your docs \n",
    "word_count_vector=cv.fit_transform(sentences)\n",
    "word_count_vector.shape"
   ]
  },
  {
   "cell_type": "code",
   "execution_count": 41,
   "metadata": {
    "id": "ddj-eTpWrArw",
    "outputId": "076e12ea-9eb5-47df-f1ce-ba496023282a"
   },
   "outputs": [
    {
     "data": {
      "text/plain": [
       "TfidfTransformer()"
      ]
     },
     "execution_count": 41,
     "metadata": {},
     "output_type": "execute_result"
    }
   ],
   "source": [
    "tfidf_transformer=TfidfTransformer(smooth_idf=True,use_idf=True) \n",
    "tfidf_transformer.fit(word_count_vector)"
   ]
  },
  {
   "cell_type": "code",
   "execution_count": 42,
   "metadata": {
    "id": "lFD06TCarAry",
    "outputId": "1f29fac4-55b2-4a77-95a5-590fd757cd21"
   },
   "outputs": [
    {
     "data": {
      "text/html": [
       "<div>\n",
       "<style scoped>\n",
       "    .dataframe tbody tr th:only-of-type {\n",
       "        vertical-align: middle;\n",
       "    }\n",
       "\n",
       "    .dataframe tbody tr th {\n",
       "        vertical-align: top;\n",
       "    }\n",
       "\n",
       "    .dataframe thead th {\n",
       "        text-align: right;\n",
       "    }\n",
       "</style>\n",
       "<table border=\"1\" class=\"dataframe\">\n",
       "  <thead>\n",
       "    <tr style=\"text-align: right;\">\n",
       "      <th></th>\n",
       "      <th>idf_weights</th>\n",
       "    </tr>\n",
       "  </thead>\n",
       "  <tbody>\n",
       "    <tr>\n",
       "      <th>ability</th>\n",
       "      <td>1.0</td>\n",
       "    </tr>\n",
       "    <tr>\n",
       "      <th>planthe</th>\n",
       "      <td>1.0</td>\n",
       "    </tr>\n",
       "    <tr>\n",
       "      <th>plans</th>\n",
       "      <td>1.0</td>\n",
       "    </tr>\n",
       "    <tr>\n",
       "      <th>planning</th>\n",
       "      <td>1.0</td>\n",
       "    </tr>\n",
       "    <tr>\n",
       "      <th>planned</th>\n",
       "      <td>1.0</td>\n",
       "    </tr>\n",
       "    <tr>\n",
       "      <th>...</th>\n",
       "      <td>...</td>\n",
       "    </tr>\n",
       "    <tr>\n",
       "      <th>environmental</th>\n",
       "      <td>1.0</td>\n",
       "    </tr>\n",
       "    <tr>\n",
       "      <th>environment</th>\n",
       "      <td>1.0</td>\n",
       "    </tr>\n",
       "    <tr>\n",
       "      <th>entry</th>\n",
       "      <td>1.0</td>\n",
       "    </tr>\n",
       "    <tr>\n",
       "      <th>establishing</th>\n",
       "      <td>1.0</td>\n",
       "    </tr>\n",
       "    <tr>\n",
       "      <th>ﬁmoderateﬂ</th>\n",
       "      <td>1.0</td>\n",
       "    </tr>\n",
       "  </tbody>\n",
       "</table>\n",
       "<p>1483 rows × 1 columns</p>\n",
       "</div>"
      ],
      "text/plain": [
       "               idf_weights\n",
       "ability                1.0\n",
       "planthe                1.0\n",
       "plans                  1.0\n",
       "planning               1.0\n",
       "planned                1.0\n",
       "...                    ...\n",
       "environmental          1.0\n",
       "environment            1.0\n",
       "entry                  1.0\n",
       "establishing           1.0\n",
       "ﬁmoderateﬂ             1.0\n",
       "\n",
       "[1483 rows x 1 columns]"
      ]
     },
     "execution_count": 42,
     "metadata": {},
     "output_type": "execute_result"
    }
   ],
   "source": [
    "# print idf values \n",
    "import pandas as pd\n",
    "df_idf = pd.DataFrame(tfidf_transformer.idf_, index=cv.get_feature_names(),columns=[\"idf_weights\"]) \n",
    "# sort ascending \n",
    "df_idf.sort_values(by=['idf_weights'])"
   ]
  },
  {
   "cell_type": "code",
   "execution_count": null,
   "metadata": {
    "id": "-9LtWYWXrArz",
    "outputId": "1a1972be-100d-477c-b207-f68ec61efbea",
    "scrolled": true
   },
   "outputs": [],
   "source": [
    "from sklearn.feature_extraction.text import TfidfVectorizer\n",
    "vectorizer = TfidfVectorizer()\n",
    "X = vectorizer.fit_transform(sentences)\n",
    "print(vectorizer.get_feature_names())"
   ]
  },
  {
   "cell_type": "markdown",
   "metadata": {
    "id": "wJ7XcbcDCDOt"
   },
   "source": [
    "## 3.2 Distance similarity "
   ]
  },
  {
   "cell_type": "code",
   "execution_count": 44,
   "metadata": {
    "id": "MAT3fXx9rAr0"
   },
   "outputs": [],
   "source": [
    "def LevenshteinDistance():\n",
    "  edDictio={}\n",
    "  for word in processed:\n",
    "    a=np.random.choice(processed)\n",
    "    b=np.random.choice(processed)\n",
    "    ed_sent=nltk.edit_distance(a,b)\n",
    "    edDictio[a,b]=ed_sent\n",
    "  print(edDictio)"
   ]
  },
  {
   "cell_type": "markdown",
   "metadata": {
    "id": "qYx7NbGBCJoX"
   },
   "source": [
    "## 3.4 World cloud"
   ]
  },
  {
   "cell_type": "code",
   "execution_count": 46,
   "metadata": {
    "id": "Tjem078BrAr2",
    "outputId": "e1162996-2168-4b2f-f0a9-a198465528fe"
   },
   "outputs": [
    {
     "data": {
      "image/png": "[encoded data removed]",
      "text/plain": [
       "<Figure size 720x864 with 1 Axes>"
      ]
     },
     "metadata": {
      "needs_background": "light"
     },
     "output_type": "display_data"
    }
   ],
   "source": [
    "from wordcloud import WordCloud, STOPWORDS\n",
    "import imageio\n",
    "import matplotlib.pyplot as plt\n",
    "import nltk\n",
    "\n",
    "\n",
    "# Get 100 words based on the \n",
    "words_except_stop_dist = nltk.FreqDist(w for w in words[:100]) \n",
    "wordcloud = WordCloud(stopwords=set(STOPWORDS),background_color='black').generate(\" \".join(words_except_stop_dist))\n",
    "plt.imshow(wordcloud,interpolation = 'bilinear')\n",
    "fig=plt.gcf()\n",
    "fig.set_size_inches(10,12)\n",
    "plt.axis('off')\n",
    "plt.title(\"Top most common 100 words PMBOK\",fontsize=20)\n",
    "plt.tight_layout(pad=0)\n",
    "plt.savefig('PMBOK_cost_time_scop_top_100.jpeg')"
   ]
  },
  {
   "cell_type": "markdown",
   "metadata": {
    "id": "WlN1EmGuCYku"
   },
   "source": [
    "**Synonym**"
   ]
  },
  {
   "cell_type": "code",
   "execution_count": 47,
   "metadata": {
    "id": "XDEn1BlqrAr3"
   },
   "outputs": [],
   "source": [
    "AllConcepts=[]\n",
    "AllRelations=[]\n",
    "for tok in doc1:\n",
    "    if tok.pos_==\"NOUN\":\n",
    "        AllConcepts.append(tok.text)\n",
    "    if tok.pos_==\"VERB\":\n",
    "        AllRelations.append(tok.text)"
   ]
  },
  {
   "cell_type": "markdown",
   "metadata": {
    "id": "fotOTHaCCg0D"
   },
   "source": [
    "- find_synonym_ontology(word) : returns all the synonyms of a word even the synonyms that doesn't exist in PMBOK"
   ]
  },
  {
   "cell_type": "code",
   "execution_count": 48,
   "metadata": {
    "id": "PHGOTUp0rAr4"
   },
   "outputs": [],
   "source": [
    "from nltk.corpus import wordnet\n",
    "def find_synonym_ontology(word):\n",
    "    synonyms = []\n",
    "    for syn in wordnet.synsets(word):\n",
    "        for lm in syn.lemmas():\n",
    "            synonyms.append(lm.name())\n",
    "    return list(set(synonyms))"
   ]
  },
  {
   "cell_type": "code",
   "execution_count": 49,
   "metadata": {
    "id": "cwdbZ4zErAr5",
    "outputId": "f9f0cdef-e801-4b4b-c693-0e34ff92442f"
   },
   "outputs": [
    {
     "name": "stdout",
     "output_type": "stream",
     "text": [
      "Synonyms of project :  ['jut', 'picture', 'plan', 'undertaking', 'project', 'labor', 'contrive', 'visualize', 'propose', 'task', 'send_off', 'visualise', 'throw', 'externalize', 'stick_out', 'fancy', 'projection', 'externalise', 'cast', 'design', 'jut_out', 'protrude', 'see', 'figure', 'image', 'envision']\n"
     ]
    }
   ],
   "source": [
    "# Examples\n",
    "print(\"Synonyms of project : \", find_synonym_ontology(\"project\"))"
   ]
  },
  {
   "cell_type": "markdown",
   "metadata": {
    "id": "JsYNeD-4Cqs5"
   },
   "source": [
    "-  returns all the synonyms of a word even the synonyms that exists in PMBOK this method is for concepts"
   ]
  },
  {
   "cell_type": "code",
   "execution_count": 50,
   "metadata": {
    "id": "oF1gSpDVrAr6"
   },
   "outputs": [],
   "source": [
    "def synonymConceptOntoPMB(term):\n",
    "\n",
    "    if term not in AllConcepts :\n",
    "        return \"it haven't\" \n",
    "    else :\n",
    "        syno_list=[]\n",
    "        temp_list=[]\n",
    "        syno_list = find_synonym_ontology(term)\n",
    "        if len(syno_list) != 0 :\n",
    "            for syno  in syno_list :\n",
    "                if syno in AllConcepts  and syno != term :\n",
    "                    temp_list.append(syno)\n",
    "                    \n",
    "        return temp_list"
   ]
  },
  {
   "cell_type": "code",
   "execution_count": 51,
   "metadata": {
    "id": "3eAnEukarAr6",
    "outputId": "606a9926-c15a-4ae8-90b7-91417e3521d2"
   },
   "outputs": [
    {
     "name": "stdout",
     "output_type": "stream",
     "text": [
      "Synonym of project in our ontology : ['plan', 'design', 'figure']\n",
      "Synonym of scope in our ontology : ['background', 'range']\n"
     ]
    }
   ],
   "source": [
    "print(\"Synonym of project in our ontology :\", synonymConceptOntoPMB('project'))\n",
    "print(\"Synonym of scope in our ontology :\", synonymConceptOntoPMB('scope'))"
   ]
  },
  {
   "cell_type": "code",
   "execution_count": 52,
   "metadata": {
    "id": "YdmLSd69rAr7"
   },
   "outputs": [],
   "source": [
    "def synonymrelationOntoPMB(term):\n",
    "    \n",
    "    if term not in AllRelations :\n",
    "        return \"it haven't\"\n",
    "    else :\n",
    "        syno_list=[]\n",
    "        temp_list=[]\n",
    "        syno_list = find_synonym_ontology(term)\n",
    "        if len(syno_list) != 0 :\n",
    "            for syno  in syno_list :\n",
    "                if syno in AllRelations  and syno != term :\n",
    "                    temp_list.append(syno)\n",
    "                    \n",
    "        return temp_list"
   ]
  },
  {
   "cell_type": "code",
   "execution_count": 53,
   "metadata": {
    "id": "a5lsPc35rAr8",
    "outputId": "9301da37-13fa-4d91-b70a-03c10efcb55e"
   },
   "outputs": [
    {
     "name": "stdout",
     "output_type": "stream",
     "text": [
      "Synonym relations of work in our ontology : ['bring', 'make', 'exercise', 'operate', 'form']\n",
      "Synonym relations of build in our ontology : it haven't\n",
      "Synonym relations of create in our ontology : ['make']\n"
     ]
    }
   ],
   "source": [
    "print(\"Synonym relations of work in our ontology :\", synonymrelationOntoPMB('work'))\n",
    "print(\"Synonym relations of build in our ontology :\", synonymrelationOntoPMB('build'))\n",
    "print(\"Synonym relations of create in our ontology :\", synonymrelationOntoPMB('create'))"
   ]
  },
  {
   "cell_type": "markdown",
   "metadata": {
    "id": "x3w3hu2tDGoy"
   },
   "source": [
    "<h1 align=\"center\"> Extraction Triple </h1>"
   ]
  },
  {
   "cell_type": "code",
   "execution_count": 54,
   "metadata": {
    "id": "LUOEWJE6rAr9"
   },
   "outputs": [],
   "source": [
    "def triple():\n",
    "    Triple=[]\n",
    "    try:\n",
    "        for subtree in chunked.subtrees(filter=lambda t: t.label() == 'Chunk'):\n",
    "              Triple.append(subtree)\n",
    "    except Exception as e:\n",
    "        print(str(e))\n",
    "    \n",
    "    return Triple"
   ]
  },
  {
   "cell_type": "code",
   "execution_count": 55,
   "metadata": {
    "id": "odrU5W_trAr9",
    "outputId": "1afaa078-f7d3-4445-8258-9dc5e2d505e1"
   },
   "outputs": [
    {
     "name": "stdout",
     "output_type": "stream",
     "text": [
      "566\n"
     ]
    }
   ],
   "source": [
    "print(len(triple()))"
   ]
  },
  {
   "cell_type": "markdown",
   "metadata": {
    "id": "qZUKE70RDPCB"
   },
   "source": [
    "# Extract Patterns (concepts , relation , object)"
   ]
  },
  {
   "cell_type": "markdown",
   "metadata": {
    "id": "IKYhMtksDTzr"
   },
   "source": [
    "**Here we user spacy and matcher from spacy**"
   ]
  },
  {
   "cell_type": "code",
   "execution_count": 56,
   "metadata": {
    "id": "xY9jSBVDrAr-"
   },
   "outputs": [],
   "source": [
    "from spacy.matcher import Matcher \n",
    "from spacy.tokens import Span \n",
    "from spacy import displacy "
   ]
  },
  {
   "cell_type": "code",
   "execution_count": 57,
   "metadata": {
    "id": "LWRkXRM0rAr_"
   },
   "outputs": [],
   "source": [
    "Concepts=[]\n",
    "relation=[]\n",
    "object=[]\n",
    "for i in range(len(triple())-1):\n",
    "    Concepts.append(triple()[i][0][0])\n",
    "    relation.append(triple()[i][1][0])\n",
    "    object.append(triple()[i][2][0])\n",
    "obj= pd.DataFrame(columns=['Concepts','relation','object'])\n",
    "obj['Concepts']=Concepts\n",
    "obj['relation']=relation\n",
    "obj['object']=object"
   ]
  },
  {
   "cell_type": "code",
   "execution_count": 58,
   "metadata": {
    "id": "otgTwyKFrAsA",
    "outputId": "cf7e019f-e8e4-4c68-85b9-7f81ea8e31e0"
   },
   "outputs": [
    {
     "data": {
      "text/html": [
       "<div>\n",
       "<style scoped>\n",
       "    .dataframe tbody tr th:only-of-type {\n",
       "        vertical-align: middle;\n",
       "    }\n",
       "\n",
       "    .dataframe tbody tr th {\n",
       "        vertical-align: top;\n",
       "    }\n",
       "\n",
       "    .dataframe thead th {\n",
       "        text-align: right;\n",
       "    }\n",
       "</style>\n",
       "<table border=\"1\" class=\"dataframe\">\n",
       "  <thead>\n",
       "    <tr style=\"text-align: right;\">\n",
       "      <th></th>\n",
       "      <th>Concepts</th>\n",
       "      <th>relation</th>\n",
       "      <th>object</th>\n",
       "    </tr>\n",
       "  </thead>\n",
       "  <tbody>\n",
       "    <tr>\n",
       "      <th>0</th>\n",
       "      <td>skills</td>\n",
       "      <td>are</td>\n",
       "      <td>common</td>\n",
       "    </tr>\n",
       "    <tr>\n",
       "      <th>1</th>\n",
       "      <td>organization</td>\n",
       "      <td>perform</td>\n",
       "      <td>action</td>\n",
       "    </tr>\n",
       "    <tr>\n",
       "      <th>2</th>\n",
       "      <td>parties</td>\n",
       "      <td>resolving</td>\n",
       "      <td>con</td>\n",
       "    </tr>\n",
       "    <tr>\n",
       "      <th>3</th>\n",
       "      <td>inputs</td>\n",
       "      <td>project</td>\n",
       "      <td>management</td>\n",
       "    </tr>\n",
       "    <tr>\n",
       "      <th>4</th>\n",
       "      <td>plan</td>\n",
       "      <td>stakeholder</td>\n",
       "      <td>register</td>\n",
       "    </tr>\n",
       "    <tr>\n",
       "      <th>...</th>\n",
       "      <td>...</td>\n",
       "      <td>...</td>\n",
       "      <td>...</td>\n",
       "    </tr>\n",
       "    <tr>\n",
       "      <th>481</th>\n",
       "      <td>section</td>\n",
       "      <td>perform</td>\n",
       "      <td>qualitative</td>\n",
       "    </tr>\n",
       "    <tr>\n",
       "      <th>482</th>\n",
       "      <td>process</td>\n",
       "      <td>include</td>\n",
       "      <td>roles</td>\n",
       "    </tr>\n",
       "    <tr>\n",
       "      <th>483</th>\n",
       "      <td>responsibilities</td>\n",
       "      <td>conducting</td>\n",
       "      <td>risk</td>\n",
       "    </tr>\n",
       "    <tr>\n",
       "      <th>484</th>\n",
       "      <td>activities</td>\n",
       "      <td>risk</td>\n",
       "      <td>management</td>\n",
       "    </tr>\n",
       "    <tr>\n",
       "      <th>485</th>\n",
       "      <td>matrix</td>\n",
       "      <td>revised</td>\n",
       "      <td>stakeholders</td>\n",
       "    </tr>\n",
       "  </tbody>\n",
       "</table>\n",
       "<p>486 rows × 3 columns</p>\n",
       "</div>"
      ],
      "text/plain": [
       "             Concepts     relation        object\n",
       "0              skills          are        common\n",
       "1        organization      perform        action\n",
       "2             parties    resolving           con\n",
       "3              inputs      project    management\n",
       "4                plan  stakeholder      register\n",
       "..                ...          ...           ...\n",
       "481           section      perform   qualitative\n",
       "482           process      include         roles\n",
       "483  responsibilities   conducting          risk\n",
       "484        activities         risk    management\n",
       "485            matrix      revised  stakeholders\n",
       "\n",
       "[486 rows x 3 columns]"
      ]
     },
     "execution_count": 58,
     "metadata": {},
     "output_type": "execute_result"
    }
   ],
   "source": [
    "obj.drop_duplicates().reset_index(drop=True)"
   ]
  },
  {
   "cell_type": "code",
   "execution_count": 59,
   "metadata": {
    "id": "BhxGnI8ArAsB",
    "outputId": "1ac004ab-d50e-4179-a5af-5afbce434a21"
   },
   "outputs": [
    {
     "data": {
      "text/plain": [
       "['skills',\n",
       " 'organization',\n",
       " 'parties',\n",
       " 'inputs',\n",
       " 'plan',\n",
       " 'assets',\n",
       " 'meetings',\n",
       " 'documents',\n",
       " 'plan',\n",
       " 'reports']"
      ]
     },
     "execution_count": 59,
     "metadata": {},
     "output_type": "execute_result"
    }
   ],
   "source": [
    "list(obj[\"Concepts\"][:10])"
   ]
  },
  {
   "cell_type": "code",
   "execution_count": 60,
   "metadata": {
    "id": "_OeNFzjlrAsC",
    "outputId": "e76631ae-71ce-4b7c-e150-7e85d5a655f3"
   },
   "outputs": [
    {
     "data": {
      "text/plain": [
       "565"
      ]
     },
     "execution_count": 60,
     "metadata": {},
     "output_type": "execute_result"
    }
   ],
   "source": [
    "len(obj)"
   ]
  },
  {
   "cell_type": "markdown",
   "metadata": {
    "id": "Tbb9H-j8DijZ"
   },
   "source": [
    "- first we extract Concepts ,relations , objects"
   ]
  },
  {
   "cell_type": "code",
   "execution_count": 61,
   "metadata": {
    "id": "np6eSlihrAsD"
   },
   "outputs": [],
   "source": [
    "obj=obj[(obj.Concepts.str.len() > 3)]\n",
    "obj=obj[(obj.object.str.len() >3)]"
   ]
  },
  {
   "cell_type": "code",
   "execution_count": 62,
   "metadata": {
    "id": "cfK7NeEgrAsE",
    "outputId": "745e6154-3322-4c0d-cb4a-ca69fc472292"
   },
   "outputs": [
    {
     "data": {
      "text/html": [
       "<div>\n",
       "<style scoped>\n",
       "    .dataframe tbody tr th:only-of-type {\n",
       "        vertical-align: middle;\n",
       "    }\n",
       "\n",
       "    .dataframe tbody tr th {\n",
       "        vertical-align: top;\n",
       "    }\n",
       "\n",
       "    .dataframe thead th {\n",
       "        text-align: right;\n",
       "    }\n",
       "</style>\n",
       "<table border=\"1\" class=\"dataframe\">\n",
       "  <thead>\n",
       "    <tr style=\"text-align: right;\">\n",
       "      <th></th>\n",
       "      <th>Concepts</th>\n",
       "      <th>relation</th>\n",
       "      <th>object</th>\n",
       "    </tr>\n",
       "  </thead>\n",
       "  <tbody>\n",
       "    <tr>\n",
       "      <th>0</th>\n",
       "      <td>skills</td>\n",
       "      <td>are</td>\n",
       "      <td>common</td>\n",
       "    </tr>\n",
       "    <tr>\n",
       "      <th>1</th>\n",
       "      <td>organization</td>\n",
       "      <td>perform</td>\n",
       "      <td>action</td>\n",
       "    </tr>\n",
       "    <tr>\n",
       "      <th>3</th>\n",
       "      <td>inputs</td>\n",
       "      <td>project</td>\n",
       "      <td>management</td>\n",
       "    </tr>\n",
       "    <tr>\n",
       "      <th>4</th>\n",
       "      <td>plan</td>\n",
       "      <td>stakeholder</td>\n",
       "      <td>register</td>\n",
       "    </tr>\n",
       "    <tr>\n",
       "      <th>5</th>\n",
       "      <td>assets</td>\n",
       "      <td>tools</td>\n",
       "      <td>techniques</td>\n",
       "    </tr>\n",
       "    <tr>\n",
       "      <th>...</th>\n",
       "      <td>...</td>\n",
       "      <td>...</td>\n",
       "      <td>...</td>\n",
       "    </tr>\n",
       "    <tr>\n",
       "      <th>560</th>\n",
       "      <td>responsibilities</td>\n",
       "      <td>conducting</td>\n",
       "      <td>risk</td>\n",
       "    </tr>\n",
       "    <tr>\n",
       "      <th>561</th>\n",
       "      <td>activities</td>\n",
       "      <td>risk</td>\n",
       "      <td>management</td>\n",
       "    </tr>\n",
       "    <tr>\n",
       "      <th>562</th>\n",
       "      <td>matrix</td>\n",
       "      <td>revised</td>\n",
       "      <td>stakeholders</td>\n",
       "    </tr>\n",
       "    <tr>\n",
       "      <th>563</th>\n",
       "      <td>plan</td>\n",
       "      <td>risk</td>\n",
       "      <td>management</td>\n",
       "    </tr>\n",
       "    <tr>\n",
       "      <th>564</th>\n",
       "      <td>scope</td>\n",
       "      <td>baselinedescribed</td>\n",
       "      <td>section</td>\n",
       "    </tr>\n",
       "  </tbody>\n",
       "</table>\n",
       "<p>546 rows × 3 columns</p>\n",
       "</div>"
      ],
      "text/plain": [
       "             Concepts           relation        object\n",
       "0              skills                are        common\n",
       "1        organization            perform        action\n",
       "3              inputs            project    management\n",
       "4                plan        stakeholder      register\n",
       "5              assets              tools    techniques\n",
       "..                ...                ...           ...\n",
       "560  responsibilities         conducting          risk\n",
       "561        activities               risk    management\n",
       "562            matrix            revised  stakeholders\n",
       "563              plan               risk    management\n",
       "564             scope  baselinedescribed       section\n",
       "\n",
       "[546 rows x 3 columns]"
      ]
     },
     "execution_count": 62,
     "metadata": {},
     "output_type": "execute_result"
    }
   ],
   "source": [
    "obj"
   ]
  },
  {
   "cell_type": "code",
   "execution_count": 63,
   "metadata": {
    "id": "Dfa3-6U4rAsF",
    "outputId": "93e775b4-a897-4c48-88f2-2abf5001da25"
   },
   "outputs": [
    {
     "name": "stdout",
     "output_type": "stream",
     "text": [
      "[('project', 383), ('risk', 252), ('management', 245), ('a', 136), ('be', 128), ('communications', 120), ('process', 120), ('information', 119), ('plan', 111), ('is', 107)]\n"
     ]
    }
   ],
   "source": [
    "common_words = word_freq.most_common(100)\n",
    "print (common_words[:10])"
   ]
  },
  {
   "cell_type": "markdown",
   "metadata": {
    "id": "eHh8Q-PZH6jy"
   },
   "source": [
    "**We keep  only the common concepts**"
   ]
  },
  {
   "cell_type": "code",
   "execution_count": 64,
   "metadata": {
    "id": "il1JLPRRrAsG",
    "outputId": "74d25f0c-e034-4a84-a11c-fe1c07d3d6da"
   },
   "outputs": [
    {
     "name": "stdout",
     "output_type": "stream",
     "text": [
      "273\n"
     ]
    }
   ],
   "source": [
    "df_concept=list(obj[\"Concepts\"])\n",
    "for i in df_concept:\n",
    "    if i not in common_words:\n",
    "        df_concept.remove(i)\n",
    "#print(df_concept)\n",
    "print(len(df_concept))\n",
    "df_concept=set(df_concept)"
   ]
  },
  {
   "cell_type": "markdown",
   "metadata": {
    "id": "cknyVpmwpYB2"
   },
   "source": [
    "*Text Segmentation*"
   ]
  },
  {
   "cell_type": "code",
   "execution_count": 159,
   "metadata": {
    "id": "anqwyCEvqouC"
   },
   "outputs": [],
   "source": [
    "import pdfplumber\n",
    "def process_segmentation() : \n",
    " ch=''\n",
    " names ='' \n",
    " start = 0\n",
    " process_df = pd.DataFrame(columns=['Process Name','start', 'Corpus'])\n",
    " with pdfplumber.open(\"PMBOK.pdf\") as pdf:\n",
    "  for i in range(338,380) :\n",
    "     page = (pdf.pages[i]).extract_text()\n",
    "     for line in page.split('\\n') :\n",
    "        if re.match('\\d{2}.\\d\\s[A-Za-z]+\\s[A-Za-z]',line) :\n",
    "           if start != 0 :\n",
    "               process_df = process_df.append({'Process Name': name,'start':start }, ignore_index=True)\n",
    "           ch = ''\n",
    "           start = i\n",
    "           name = line[5:]\n",
    "           ch=ch+'. '+line\n",
    "  process_df = process_df.append({'Process Name': name,'start':start, 'Corpus': ch[1:] }, ignore_index=True )\n",
    "  return (process_df)\n"
   ]
  },
  {
   "cell_type": "code",
   "execution_count": 161,
   "metadata": {
    "id": "M_6FQRziwqYX"
   },
   "outputs": [],
   "source": [
    "process_df = process_segmentation()"
   ]
  },
  {
   "cell_type": "code",
   "execution_count": 340,
   "metadata": {
    "id": "8b0RrxM6yP9j"
   },
   "outputs": [],
   "source": [
    "import pdfplumber \n",
    "ch=''\n",
    "with pdfplumber.open(\"PMBOK.pdf\") as temp:\n",
    " for i in range(339,379) :\n",
    "   first_page = temp.pages[i]\n",
    "   ch=ch+first_page.extract_text()\n"
   ]
  },
  {
   "cell_type": "code",
   "execution_count": 374,
   "metadata": {},
   "outputs": [],
   "source": [
    "import pdfplumber \n",
    "all_text=''\n",
    "with pdfplumber.open(\"PMBOK.pdf\") as temp:\n",
    " for i in range(0,610) :\n",
    "   first_page = temp.pages[i]\n",
    "   all_text=all_text+first_page.extract_text()"
   ]
  },
  {
   "cell_type": "code",
   "execution_count": 337,
   "metadata": {
    "id": "BZF7yRdrxDo1"
   },
   "outputs": [],
   "source": [
    "import re\n",
    "inputs_titles = re.compile(r'\\d+\\..+: Inputs\\n')\n",
    "tools_and_techniques = re.compile(r'\\d+\\..+: tools and techniques\\n') \n",
    "outputs_titles = re.compile(r'\\d+\\..+: outputs\\n')\n",
    "get_subtiltles = re.compile(r'[^|\\n](\\d+\\.){2,4}\\d+ [a-z|\\s|A-Z]+(\\d+)?\\n') \n",
    "title = re.compile(r'\\d+ (.+): Inputs\\n')\n"
   ]
  },
  {
   "cell_type": "code",
   "execution_count": 437,
   "metadata": {
    "colab": {
     "base_uri": "https://localhost:8080/"
    },
    "id": "VTsgBBVJy5lA",
    "outputId": "d91e70b2-0621-44b8-f57f-7a5c2b4d359e",
    "scrolled": true
   },
   "outputs": [
    {
     "name": "stdout",
     "output_type": "stream",
     "text": [
      "11.1.1 Plan risk Management: Inputs\n",
      "\n",
      "\t11.1.1.1 Project Management Plan\n",
      "\t11.1.1.2 Project charter\n",
      "\t11.1.1.3 Stakeholder register\n",
      "\t11.1.1.4 Enterprise Environmental Factors\n",
      "\t11.1.1.5 organizational Process Assets\n",
      "11.1.2 Plan risk Management: tools and techniques\n",
      "\n",
      "\t11.1.2.1 Analytical techniques\n",
      "\t11.1.2.2 Expert Judgment\n",
      "\t11.1.2.3 Meetings\n",
      "11.1.3 Plan risk Management: outputs\n",
      "\n",
      "\t11.1.3.1 risk Management Plan\n",
      "----------------------------------------------------------------------\n",
      "11.2.1 Identify risks: Inputs\n",
      "\n",
      "\t11.2.1.1 risk Management Plan 11\n",
      "\t11.2.1.2 cost Management Plan\n",
      "\t11.2.1.3 Schedule Management Plan\n",
      "\t11.2.1.4 Quality Management Plan\n",
      "\t11.2.1.5 Human resource Management Plan\n",
      "\t11.2.1.6 Scope Baseline\n",
      "\t11.2.1.7 Activity cost Estimates\n",
      "\t11.2.1.8 Activity duration Estimates\n",
      "\t11.2.1.9 Stakeholder register\n",
      "\t11.2.1.10 Project documents\n",
      "\t11.2.1.11 Procurement documents\n",
      "\t11.2.1.12 Enterprise Environmental Factors\n",
      "\t11.2.1.13 organizational Process Assets\n",
      "11.2.2 Identify risks: tools and techniques\n",
      "\n",
      "\t11.2.2.1 documentation reviews\n",
      "\t11.2.2.2 Information Gathering techniques\n",
      "\t11.2.2.3 checklist Analysis\n",
      "\t11.2.2.4 Assumptions Analysis\n",
      "\t11.2.2.5 diagramming techniques\n",
      "\t11.2.2.6 SWot Analysis\n",
      "\t11.2.2.7 Expert Judgment\n",
      "11.2.3 Identify risks: outputs\n",
      "\n",
      "\t11.2.3.1 risk register\n",
      "----------------------------------------------------------------------\n",
      "11.3.1 Perform Qualitative risk Analysis: Inputs\n",
      "\n",
      "\t11.3.1.1 risk Management Plan\n",
      "\t11.3.1.2 Scope Baseline\n",
      "\t11.3.1.3 risk register\n",
      "\t11.3.1.4 Enterprise Environmental Factors\n",
      "\t11.3.1.5 organizational Process Assets\n",
      "11.3.2 Perform Qualitative risk Analysis: tools and techniques\n",
      "\n",
      "\t11.3.2.1 risk Probability and Impact Assessment\n",
      "\t11.3.2.2 Probability and Impact Matrix\n",
      "\t11.3.2.3 risk data Quality Assessment\n",
      "\t11.3.2.4 risk categorization\n",
      "\t11.3.2.5 risk urgency Assessment\n",
      "\t11.3.2.6 Expert Judgment\n",
      "11.3.3 Perform Qualitative risk Analysis: outputs\n",
      "\n",
      "\t11.3.3.1 Project documents updates\n",
      "----------------------------------------------------------------------\n",
      "11.4.1 Perform Quantitative risk Analysis: Inputs\n",
      "\n",
      "\t11.4.1.1 risk Management Plan\n",
      "\t11.4.1.2 cost Management Plan\n",
      "\t11.4.1.3 Schedule Management Plan\n",
      "\t11.4.1.4 risk register\n",
      "\t11.4.1.5 Enterprise Environmental Factors\n",
      "\t11.4.1.6 organizational Process Assets\n",
      "11.4.2 Perform Quantitative risk Analysis: tools and techniques\n",
      "\n",
      "\t11.4.2.1 data Gathering and representation techniques\n",
      "\t11.4.2.2 Quantitative risk Analysis and Modeling techniques\n",
      "\t11.4.2.3 Expert Judgment\n",
      "11.4.3 Perform Quantitative risk Analysis: outputs\n",
      "\n",
      "\t11.4.3.1 Project documents updates\n",
      "----------------------------------------------------------------------\n",
      "11.5.1 Plan risk responses: Inputs\n",
      "\n",
      "\t11.5.1.1 risk Management Plan\n",
      "\t11.5.1.2 risk register\n",
      "11.5.2 Plan risk responses: tools and techniques\n",
      "\n",
      "\t11.5.2.1 Strategies for negative risks or threats\n",
      "\t11.5.2.2 Strategies for Positive risks or opportunities\n",
      "\t11.5.2.3 contingent response Strategies\n",
      "\t11.5.2.4 Expert Judgment\n",
      "11.5.3 Plan risk responses: outputs\n",
      "\n",
      "\t11.5.3.1 Project Management Plan updates\n",
      "\t11.5.3.2 Project documents updates\n",
      "----------------------------------------------------------------------\n",
      "11.6.1 control risks: Inputs\n",
      "\n",
      "\t11.6.1.1 Project Management Plan\n",
      "\t11.6.1.2 risk register\n",
      "\t11.6.1.3 Work Performance data\n",
      "\t11.6.1.4 Work Performance reports\n",
      "11.6.2 control risks: tools and techniques\n",
      "\n",
      "\t11.6.2.1 risk reassessment\n",
      "\t11.6.2.2 risk Audits\n",
      "\t11.6.2.3 Variance and trend Analysis\n",
      "\t11.6.2.4 technical Performance Measurement\n",
      "\t11.6.2.5 reserve Analysis\n",
      "\t11.6.2.6 Meetings\n",
      "11.6.3 control risks: outputs\n",
      "\n",
      "\t11.6.3.1 Work Performance Information\n",
      "\t11.6.3.2 change requests\n",
      "\t11.6.3.3 Project Management Plan updates\n"
     ]
    }
   ],
   "source": [
    "#Extraire tous les titres avec : Inputs\n",
    "sections = inputs_titles.finditer(ch) \n",
    "df = []\n",
    "inputs = [] \n",
    "tt = []\n",
    "outputss=[]\n",
    "lst_sec = [elem for elem in sections]\n",
    "dicto = {}\n",
    "lst_process=[]\n",
    "lst_inputs =[]\n",
    "lst_tt = []\n",
    "lst_outputs=[]\n",
    "final_list = []\n",
    "for i in range(0,len(lst_sec)):\n",
    "      dicto[title.search(lst_sec[i].group()).group(1)]={}\n",
    "      lst_process.append(title.search(lst_sec[i].group()).group(1))\n",
    "      # print(\"processus : \", title.search(lst_sec[i].group()).group(1)) \n",
    "      #Extraire toute la partie entre 2 processus\n",
    "      df.append(title.search(lst_sec[i].group()).group(1))\n",
    "      str_between = ch[int(lst_sec[i].span()[1]):int(lst_sec[i+1].span()[0])] \n",
    "      t_and_t = tools_and_techniques.search(str_between)\n",
    "      ch_inputs_techniques = str_between[:int(t_and_t.span()[0])]\n",
    "      lst_sub_inputs = get_subtiltles.finditer(ch_inputs_techniques)\n",
    "      #######Liste des inputs\n",
    "      lst2 = [a.group().split('\\n')[0] for a in lst_sub_inputs]\n",
    "      #print(lst2)\n",
    "      l=list()\n",
    "      nom_input = \"p\"+str(i+1)+\"_inputs\" \n",
    "      l.append(nom_input)\n",
    "      dicto[title.search(lst_sec[i].group()).group(1)][\"inputs\"]={}\n",
    "      for j in lst2 : \n",
    "         a=j\n",
    "         a=a.replace('\\n','')\n",
    "         a = re.sub(r'[*\\d]', '', a)\n",
    "         a=a.replace('.','')\n",
    "         a = re.sub(r\"^\\s+\",\"\",a) \n",
    "         l.append(a)\n",
    "        #inputs\n",
    "         #*************************************************\n",
    "         lst_inputs.append(j)\n",
    "         final_list.append(j)\n",
    "         dicto[title.search(lst_sec[i].group()).group(1)][\"inputs\"][j]={}\n",
    "         #*************************************************\n",
    "         print(\"\\t\"+j) \n",
    "      inputs.append(l)\n",
    "      #####End liste des inputs\n",
    "      #[print(\"\\t\"+x.group().split('\\n')[0]) for x in lst_sub_inputs]\n",
    "      print(t_and_t.group())\n",
    "      outputs = outputs_titles.search(str_between)\n",
    "      ch_techniques_outputs = str_between[int(t_and_t.span()[1]):int(outputs.span()[0])] \n",
    "      lst_sub_tt = get_subtiltles.finditer(ch_techniques_outputs)\n",
    "      ######Liste des tt\n",
    "      lst2 = [a.group().split('\\n')[0] for a in lst_sub_tt]\n",
    "      #print(lst2)\n",
    "      l=list()\n",
    "      nom_tt = \"p\"+str(i+1)+\"_tt\"\n",
    "      l.append(nom_tt)\n",
    "     #*************************************************\n",
    "      dicto[title.search(lst_sec[i].group()).group(1)][\"tools and techniques\"]={}\n",
    "     #*************************************************\n",
    "      for j in lst2 : \n",
    "         a=j\n",
    "         a=a.replace('\\n','')\n",
    "         a = re.sub(r'[*\\d]', '', a)\n",
    "         a=a.replace('.','')\n",
    "         a = re.sub(r\"^\\s+\",\"\",a) \n",
    "         l.append(a)\n",
    "         #tools & techniques\n",
    "        #*************************************************\n",
    "         lst_tt.append(j)\n",
    "         dicto[title.search(lst_sec[i].group()).group(1)][\"tools and techniques\"][j]={}\n",
    "         final_list.append(j)\n",
    "        #*************************************************\n",
    "         print(\"\\t\"+j) \n",
    "      tt.append(l)\n",
    "      ######End liste des tt\n",
    "      #[print(\"\\t\"+x.group().split('\\n')[0]) for x in lst_sub_tt]\n",
    "      print(outputs.group())\n",
    "      ch_outputs = str_between[int(outputs.span()[1]):]\n",
    "      lst_sub_outputs = get_subtiltles.finditer(ch_outputs)\n",
    "      ######Liste des outputs\n",
    "      lst2 = [a.group().split('\\n')[0] for a in lst_sub_outputs]\n",
    "      #print(lst2)\n",
    "      l=list()\n",
    "      nom_output = \"p\"+str(i+1)+\"_outputs\" \n",
    "      l.append(nom_output)\n",
    "      #************************************************* \n",
    "      dicto[title.search(lst_sec[i].group()).group(1)][\"outputs\"]={}\n",
    "      for j in lst2 : \n",
    "         a=j\n",
    "         a=a.replace('\\n','')\n",
    "         a = re.sub(r'[*\\d]', '', a)\n",
    "         a=a.replace('.','')\n",
    "         a = re.sub(r\"^\\s+\",\"\",a) \n",
    "         l.append(a)\n",
    "         #outputs\n",
    "        #*************************************************\n",
    "         lst_outputs.append(j)\n",
    "         dicto[title.search(lst_sec[i].group()).group(1)][\"outputs\"][j]={}\n",
    "         final_list.append(j)\n",
    "        #*************************************************\n",
    "         print(\"\\t\"+j) \n",
    "      outputss.append(l)\n",
    "      ######End liste des outputs\n",
    "      #[print(\"\\t\"+x.group().split('\\n')[0]) for x in lst_sub_outputs if '-' not in x.gro\n",
    "      print('-'*70)"
   ]
  },
  {
   "cell_type": "code",
   "execution_count": 439,
   "metadata": {},
   "outputs": [],
   "source": [
    "text = ch.replace(\"\\n\",\" \")\n",
    "h=0\n",
    "#iterating processes\n",
    "for i,process in enumerate(dicto.keys()):\n",
    "    #iterating inputs/outputs/TT\n",
    "    for j,el in enumerate(dicto[process].keys()):\n",
    "        #iterating values\n",
    "        for k,element in enumerate(dicto[process][el]):\n",
    "            if h < len(final_list)-2:\n",
    "                dicto[process][el][element]=[text[text.index(final_list[h]):text.index(final_list[h+1])]]\n",
    "            else:\n",
    "                dicto[process][el][element]=[text[ch.index(final_list[h]):]]\n",
    "            h=h+1\n",
    "            "
   ]
  },
  {
   "cell_type": "code",
   "execution_count": 423,
   "metadata": {},
   "outputs": [],
   "source": [
    "def text_between(corpus,start,end):\n",
    "    return corpus[corpus.index(start):corpus.index(end)]\n"
   ]
  },
  {
   "cell_type": "code",
   "execution_count": 397,
   "metadata": {},
   "outputs": [
    {
     "data": {
      "text/plain": [
       "29"
      ]
     },
     "execution_count": 397,
     "metadata": {},
     "output_type": "execute_result"
    }
   ],
   "source": [
    "len(lst_sections)"
   ]
  },
  {
   "cell_type": "code",
   "execution_count": 372,
   "metadata": {},
   "outputs": [
    {
     "data": {
      "text/plain": [
       "['Described in Section 4.1.3.1.',\n",
       " 'Described in Section 13.1.3.1.',\n",
       " 'Described in Section 2.1.5.',\n",
       " 'Described in Section 2.1.4.',\n",
       " 'Described in Section 11.1.3.1.',\n",
       " 'Described in Section 7.1.3.1.',\n",
       " 'Described in Section 6.1.3.1.',\n",
       " 'Described in Section 8.1.3.1.',\n",
       " 'Described in Section 9.1.3.1.',\n",
       " 'Described in Section 5.4.3.1.',\n",
       " 'Described in Section 7.2.3.1.',\n",
       " 'Described in Section 6.5.3.1.',\n",
       " 'Described in Section 13.1.3.1.',\n",
       " 'Described in Section 2.1.5.',\n",
       " 'Described in Section 2.1.4.',\n",
       " 'Described in Section 11.1.3.1.',\n",
       " 'Described in Section 5.4.3.1.',\n",
       " 'Described in Section 11.2.3.1.',\n",
       " 'Described in Section 2.1.5.',\n",
       " 'Described in Section 2.1.4.',\n",
       " 'Described in Section 11.1.3.1.',\n",
       " 'Described in Section 7.1.3.1.',\n",
       " 'Described in Section 6.1.3.1.',\n",
       " 'Described in Section 11.2.3.1.',\n",
       " 'Described in Section 2.1.5.',\n",
       " 'Described in Section 2.1.4.',\n",
       " 'Described in Section 4.2.3.1.',\n",
       " 'Described in Section 4.3.3.2.',\n",
       " 'Described in Section 4.4.3.2.']"
      ]
     },
     "execution_count": 372,
     "metadata": {},
     "output_type": "execute_result"
    }
   ],
   "source": [
    "lst_sections = []\n",
    "for i,process in enumerate(dicto.keys()):\n",
    "    for j,el in enumerate(dicto[process].keys()):\n",
    "        for k,element in enumerate(dicto[process][el]):\n",
    "            text = dicto[process][el][element][0]\n",
    "            if \"Described in Section \" in text:\n",
    "                temp=\"\"\n",
    "                compt = 0\n",
    "                substr = text[text.index(\"Described in Section \"):][21:]\n",
    "                while (compt<len(substr) and substr[compt]!=\" \"):\n",
    "                    temp+=substr[compt]\n",
    "                    compt+=1\n",
    "                section=\"Described in Section \" + temp\n",
    "                lst_sections.append(section)\n",
    "lst_sections                 "
   ]
  },
  {
   "cell_type": "code",
   "execution_count": 442,
   "metadata": {},
   "outputs": [],
   "source": [
    "compt=0\n",
    "for i,process in enumerate(dicto.keys()):\n",
    "    for j,el in enumerate(dicto[process].keys()):\n",
    "        for k,element in enumerate(dicto[process][el]):\n",
    "            text = dicto[process][el][element][0]\n",
    "            if \"Described in Section \" in text:\n",
    "                dicto[process][el][element].append(text_between(all_text,lst_sections[0],lst_sections[1]))\n",
    "                compt+=1\n",
    "            else:\n",
    "                dicto[process][el][element].append(\"No section\")\n",
    "            "
   ]
  },
  {
   "cell_type": "code",
   "execution_count": 444,
   "metadata": {},
   "outputs": [],
   "source": [
    "import json\n",
    "with open('final.json', 'w') as fp:\n",
    "    json.dump(dicto, fp)"
   ]
  },
  {
   "cell_type": "markdown",
   "metadata": {
    "id": "pNOfN8Z9IIoA"
   },
   "source": [
    "# Concepts : df_concept"
   ]
  },
  {
   "cell_type": "markdown",
   "metadata": {
    "id": "sRCfwYWIIPDo"
   },
   "source": [
    "- we define all patterns that can be an (instance , subclass)"
   ]
  },
  {
   "cell_type": "code",
   "execution_count": 445,
   "metadata": {
    "id": "QF-Rz6lmrAsH"
   },
   "outputs": [],
   "source": [
    "relations = ['is a','such as','kind of','including','have','part','member','instance','and or other','especially','like','in']"
   ]
  },
  {
   "cell_type": "markdown",
   "metadata": {
    "id": "8WfuZk-TIUbT"
   },
   "source": [
    "## we define All pattern here"
   ]
  },
  {
   "cell_type": "code",
   "execution_count": 446,
   "metadata": {
    "id": "_D3ykJd-rAsH"
   },
   "outputs": [],
   "source": [
    "#define the pattern \n",
    "patternISA = [  {'DEP':'amod','OP':\"?\"}, # adjectival modifier\n",
    "                {'POS':'NOUN'}, \n",
    "                {'LOWER': 'is'},  {'LOWER': 'a'}, \n",
    "                {'POS': 'NOUN'}]\n",
    "# Pattern such as\n",
    "pattern2 = [  {'DEP':'amod','OP':\"?\"}, # adjectival modifier \n",
    "              {'POS':'NOUN'}, \n",
    "              {'LOWER': 'such'},  {'LOWER': 'as'},\n",
    "              {'POS':'PROPN'}]\n",
    "# Pattern kind of\n",
    "pattern3 = [  {'DEP':'amod','OP':\"?\"}, # adjectival modifier \n",
    "              {'POS':'NOUN'}, \n",
    "            {'LOWER': 'kind'},  {'LOWER': 'of'}, \n",
    "              {'POS':'PROPN'}]\n",
    "# Pattern include \n",
    "pattern4 = [  {'DEP':'amod','OP':\"?\"}, # adjectival modifier \n",
    "              {'POS':'NOUN'}, \n",
    "           {'LOWER': 'include'}, \n",
    "              {'DEP':'amod','OP':\"?\"}, # adjectival modifier \n",
    "            {'POS':'NOUN'}]\n",
    "# Pattern have\n",
    "pattern5 = [  {'DEP':'amod','OP':\"?\"}, # adjectival modifier \n",
    "              {'POS':'NOUN'}, \n",
    "           {'LOWER': 'have'}, \n",
    "              {'DEP':'amod','OP':\"?\"}, # adjectival modifier \n",
    "           {'POS':'NOUN'}]\n",
    "# Pattern part\n",
    "pattern6 = [  {'DEP':'amod','OP':\"?\"}, # adjectival modifier \n",
    "              {'POS':'NOUN'}, \n",
    "           {'LOWER': 'part'}, \n",
    "              {'DEP':'amod','OP':\"?\"}, # adjectival modifier \n",
    "           {'POS':'NOUN'}]\n",
    "# Pattern member\n",
    "pattern7 = [  {'DEP':'amod','OP':\"?\"}, # adjectival modifier \n",
    "              {'POS':'NOUN'}, \n",
    "           {'LOWER': 'member'}, \n",
    "              {'DEP':'amod','OP':\"?\"}, # adjectival modifier \n",
    "           {'POS':'NOUN'}]\n",
    "# Pattern instance\n",
    "pattern8 = [  {'DEP':'amod','OP':\"?\"}, # adjectival modifier \n",
    "              {'POS':'NOUN'}, \n",
    "           {'LOWER': 'instance'}, \n",
    "              {'DEP':'amod','OP':\"?\"}, # adjectival modifier \n",
    "           {'POS':'NOUN'}]\n",
    "\n",
    "#define the pattern  and|or \n",
    "pattern9 = [{'DEP':'amod', 'OP':\"?\"}, \n",
    "           {'POS':'NOUN'}, \n",
    "           {'LOWER': 'and', 'OP':\"?\"}, \n",
    "           {'LOWER': 'or', 'OP':\"?\"}, \n",
    "           {'LOWER': 'other'}, \n",
    "           {'POS': 'NOUN'}] \n",
    "# Pattern especially\n",
    "pattern10 = [  {'DEP':'amod','OP':\"?\"}, # adjectival modifier \n",
    "              {'POS':'NOUN'}, \n",
    "           {'LOWER': 'especially'}, \n",
    "              {'DEP':'amod','OP':\"?\"}, # adjectival modifier \n",
    "           {'POS':'NOUN'}]\n",
    "# Pattern like\n",
    "pattern11 = [{'DEP':'compound', 'OP':\"*\"},\n",
    "           {'POS':'NOUN'},\n",
    "           {'LOWER': 'like'},\n",
    "           {'DEP':'compound', 'OP':\"*\"},\n",
    "           {'POS': 'NOUN'}]\n",
    "# Pattern In\n",
    "pattern12 = [{'DEP':'compound', 'OP':\"*\"},\n",
    "           {'POS':'NOUN'},\n",
    "           {'LOWER': 'In'},\n",
    "           {'DEP':'compound', 'OP':\"*\"},\n",
    "           {'POS': 'NOUN'}]"
   ]
  },
  {
   "cell_type": "markdown",
   "metadata": {
    "id": "2S23mmtLIdmz"
   },
   "source": [
    "- Let’s extract those patterns from the text:"
   ]
  },
  {
   "cell_type": "code",
   "execution_count": 447,
   "metadata": {
    "id": "hViHdYOYrAsJ"
   },
   "outputs": [],
   "source": [
    "matcher = Matcher(nlp.vocab) \n",
    "matcher.add(\"All match\", [patternISA,pattern2,pattern3,pattern4,pattern5,pattern6,pattern7,pattern8,pattern10,pattern11,pattern12])\n",
    "matchess = matcher(doc1)\n",
    "spans = [doc1[start:end] for _, start, end in matchess]"
   ]
  },
  {
   "cell_type": "code",
   "execution_count": 448,
   "metadata": {
    "id": "GxCQWvBGrAsJ",
    "outputId": "4c70d885-ad37-479e-8e38-2e415e99b1fe"
   },
   "outputs": [
    {
     "data": {
      "text/html": [
       "<div>\n",
       "<style scoped>\n",
       "    .dataframe tbody tr th:only-of-type {\n",
       "        vertical-align: middle;\n",
       "    }\n",
       "\n",
       "    .dataframe tbody tr th {\n",
       "        vertical-align: top;\n",
       "    }\n",
       "\n",
       "    .dataframe thead th {\n",
       "        text-align: right;\n",
       "    }\n",
       "</style>\n",
       "<table border=\"1\" class=\"dataframe\">\n",
       "  <thead>\n",
       "    <tr style=\"text-align: right;\">\n",
       "      <th></th>\n",
       "      <th>Y</th>\n",
       "      <th>Relation</th>\n",
       "      <th>X</th>\n",
       "    </tr>\n",
       "  </thead>\n",
       "  <tbody>\n",
       "    <tr>\n",
       "      <th>0</th>\n",
       "      <td>information</td>\n",
       "      <td>is a</td>\n",
       "      <td>need</td>\n",
       "    </tr>\n",
       "    <tr>\n",
       "      <th>1</th>\n",
       "      <td>technology</td>\n",
       "      <td>is a</td>\n",
       "      <td>need</td>\n",
       "    </tr>\n",
       "    <tr>\n",
       "      <th>2</th>\n",
       "      <td>use</td>\n",
       "      <td>is a</td>\n",
       "      <td>need</td>\n",
       "    </tr>\n",
       "    <tr>\n",
       "      <th>3</th>\n",
       "      <td>environment</td>\n",
       "      <td>is a</td>\n",
       "      <td>need</td>\n",
       "    </tr>\n",
       "    <tr>\n",
       "      <th>4</th>\n",
       "      <td>information</td>\n",
       "      <td>is a</td>\n",
       "      <td>need</td>\n",
       "    </tr>\n",
       "    <tr>\n",
       "      <th>5</th>\n",
       "      <td>plan</td>\n",
       "      <td>is a</td>\n",
       "      <td>component</td>\n",
       "    </tr>\n",
       "    <tr>\n",
       "      <th>6</th>\n",
       "      <td>technique</td>\n",
       "      <td>is a</td>\n",
       "      <td>risk</td>\n",
       "    </tr>\n",
       "    <tr>\n",
       "      <th>7</th>\n",
       "      <td>context</td>\n",
       "      <td>is a</td>\n",
       "      <td>combination</td>\n",
       "    </tr>\n",
       "    <tr>\n",
       "      <th>8</th>\n",
       "      <td>plan</td>\n",
       "      <td>is a</td>\n",
       "      <td>component</td>\n",
       "    </tr>\n",
       "    <tr>\n",
       "      <th>9</th>\n",
       "      <td>matrix</td>\n",
       "      <td>is a</td>\n",
       "      <td>grid</td>\n",
       "    </tr>\n",
       "    <tr>\n",
       "      <th>10</th>\n",
       "      <td>delphi technique</td>\n",
       "      <td>is a</td>\n",
       "      <td>way</td>\n",
       "    </tr>\n",
       "    <tr>\n",
       "      <th>11</th>\n",
       "      <td>analysis</td>\n",
       "      <td>is a</td>\n",
       "      <td>speci˜c</td>\n",
       "    </tr>\n",
       "    <tr>\n",
       "      <th>12</th>\n",
       "      <td>register</td>\n",
       "      <td>is a</td>\n",
       "      <td>document</td>\n",
       "    </tr>\n",
       "  </tbody>\n",
       "</table>\n",
       "</div>"
      ],
      "text/plain": [
       "                   Y Relation            X\n",
       "0        information    is a          need\n",
       "1         technology    is a          need\n",
       "2                use    is a          need\n",
       "3        environment    is a          need\n",
       "4        information    is a          need\n",
       "5               plan    is a     component\n",
       "6          technique    is a          risk\n",
       "7            context    is a   combination\n",
       "8               plan    is a     component\n",
       "9             matrix    is a          grid\n",
       "10  delphi technique    is a           way\n",
       "11          analysis    is a       speci˜c\n",
       "12          register    is a      document"
      ]
     },
     "execution_count": 448,
     "metadata": {},
     "output_type": "execute_result"
    }
   ],
   "source": [
    "X_Relation_Y=[]\n",
    "for span in spacy.util.filter_spans(spans):\n",
    "    X_Relation_Y.append(re.split('( is a )',span.text))\n",
    "   # 'is a','such as','kind of','including','have','part','member','instance','and or other','especially','like','in'\n",
    "df_X_Relation_Y = pd.DataFrame(X_Relation_Y,columns=['Y','Relation','X'])\n",
    "df_X_Relation_Y = df_X_Relation_Y.dropna().reset_index().drop(['index'],axis=1)\n",
    "df_X_Relation_Y"
   ]
  },
  {
   "cell_type": "code",
   "execution_count": 449,
   "metadata": {
    "id": "pEROsmWWrAsK"
   },
   "outputs": [],
   "source": [
    "df_class_subclass = pd.DataFrame()\n",
    "df_class_subclass['class'] = df_X_Relation_Y['Y']\n",
    "df_class_subclass['subclass'] = df_X_Relation_Y['X']"
   ]
  },
  {
   "cell_type": "code",
   "execution_count": 450,
   "metadata": {
    "id": "qA6whi_hrAsL",
    "outputId": "7c3f7c7f-0495-4480-80fc-01eabf111f54"
   },
   "outputs": [
    {
     "data": {
      "text/html": [
       "<div>\n",
       "<style scoped>\n",
       "    .dataframe tbody tr th:only-of-type {\n",
       "        vertical-align: middle;\n",
       "    }\n",
       "\n",
       "    .dataframe tbody tr th {\n",
       "        vertical-align: top;\n",
       "    }\n",
       "\n",
       "    .dataframe thead th {\n",
       "        text-align: right;\n",
       "    }\n",
       "</style>\n",
       "<table border=\"1\" class=\"dataframe\">\n",
       "  <thead>\n",
       "    <tr style=\"text-align: right;\">\n",
       "      <th></th>\n",
       "      <th>class</th>\n",
       "      <th>subclass</th>\n",
       "    </tr>\n",
       "  </thead>\n",
       "  <tbody>\n",
       "    <tr>\n",
       "      <th>0</th>\n",
       "      <td>information</td>\n",
       "      <td>need</td>\n",
       "    </tr>\n",
       "    <tr>\n",
       "      <th>1</th>\n",
       "      <td>technology</td>\n",
       "      <td>need</td>\n",
       "    </tr>\n",
       "    <tr>\n",
       "      <th>2</th>\n",
       "      <td>use</td>\n",
       "      <td>need</td>\n",
       "    </tr>\n",
       "    <tr>\n",
       "      <th>3</th>\n",
       "      <td>environment</td>\n",
       "      <td>need</td>\n",
       "    </tr>\n",
       "    <tr>\n",
       "      <th>4</th>\n",
       "      <td>information</td>\n",
       "      <td>need</td>\n",
       "    </tr>\n",
       "    <tr>\n",
       "      <th>5</th>\n",
       "      <td>plan</td>\n",
       "      <td>component</td>\n",
       "    </tr>\n",
       "    <tr>\n",
       "      <th>6</th>\n",
       "      <td>technique</td>\n",
       "      <td>risk</td>\n",
       "    </tr>\n",
       "    <tr>\n",
       "      <th>7</th>\n",
       "      <td>context</td>\n",
       "      <td>combination</td>\n",
       "    </tr>\n",
       "    <tr>\n",
       "      <th>8</th>\n",
       "      <td>plan</td>\n",
       "      <td>component</td>\n",
       "    </tr>\n",
       "    <tr>\n",
       "      <th>9</th>\n",
       "      <td>matrix</td>\n",
       "      <td>grid</td>\n",
       "    </tr>\n",
       "    <tr>\n",
       "      <th>10</th>\n",
       "      <td>delphi technique</td>\n",
       "      <td>way</td>\n",
       "    </tr>\n",
       "    <tr>\n",
       "      <th>11</th>\n",
       "      <td>analysis</td>\n",
       "      <td>speci˜c</td>\n",
       "    </tr>\n",
       "    <tr>\n",
       "      <th>12</th>\n",
       "      <td>register</td>\n",
       "      <td>document</td>\n",
       "    </tr>\n",
       "  </tbody>\n",
       "</table>\n",
       "</div>"
      ],
      "text/plain": [
       "               class     subclass\n",
       "0        information         need\n",
       "1         technology         need\n",
       "2                use         need\n",
       "3        environment         need\n",
       "4        information         need\n",
       "5               plan    component\n",
       "6          technique         risk\n",
       "7            context  combination\n",
       "8               plan    component\n",
       "9             matrix         grid\n",
       "10  delphi technique          way\n",
       "11          analysis      speci˜c\n",
       "12          register     document"
      ]
     },
     "execution_count": 450,
     "metadata": {},
     "output_type": "execute_result"
    }
   ],
   "source": [
    "df_class_subclass"
   ]
  },
  {
   "cell_type": "code",
   "execution_count": 451,
   "metadata": {
    "id": "Z9e1Dv2KrAsL",
    "outputId": "bb517c71-e1c7-42fd-f487-bc3ac8a663ae"
   },
   "outputs": [
    {
     "data": {
      "text/html": [
       "<div>\n",
       "<style scoped>\n",
       "    .dataframe tbody tr th:only-of-type {\n",
       "        vertical-align: middle;\n",
       "    }\n",
       "\n",
       "    .dataframe tbody tr th {\n",
       "        vertical-align: top;\n",
       "    }\n",
       "\n",
       "    .dataframe thead th {\n",
       "        text-align: right;\n",
       "    }\n",
       "</style>\n",
       "<table border=\"1\" class=\"dataframe\">\n",
       "  <thead>\n",
       "    <tr style=\"text-align: right;\">\n",
       "      <th></th>\n",
       "      <th>Concepts</th>\n",
       "      <th>relation</th>\n",
       "      <th>object</th>\n",
       "    </tr>\n",
       "  </thead>\n",
       "  <tbody>\n",
       "    <tr>\n",
       "      <th>0</th>\n",
       "      <td>skills</td>\n",
       "      <td>are</td>\n",
       "      <td>common</td>\n",
       "    </tr>\n",
       "    <tr>\n",
       "      <th>1</th>\n",
       "      <td>organization</td>\n",
       "      <td>perform</td>\n",
       "      <td>action</td>\n",
       "    </tr>\n",
       "    <tr>\n",
       "      <th>3</th>\n",
       "      <td>inputs</td>\n",
       "      <td>project</td>\n",
       "      <td>management</td>\n",
       "    </tr>\n",
       "    <tr>\n",
       "      <th>4</th>\n",
       "      <td>plan</td>\n",
       "      <td>stakeholder</td>\n",
       "      <td>register</td>\n",
       "    </tr>\n",
       "    <tr>\n",
       "      <th>5</th>\n",
       "      <td>assets</td>\n",
       "      <td>tools</td>\n",
       "      <td>techniques</td>\n",
       "    </tr>\n",
       "    <tr>\n",
       "      <th>...</th>\n",
       "      <td>...</td>\n",
       "      <td>...</td>\n",
       "      <td>...</td>\n",
       "    </tr>\n",
       "    <tr>\n",
       "      <th>560</th>\n",
       "      <td>responsibilities</td>\n",
       "      <td>conducting</td>\n",
       "      <td>risk</td>\n",
       "    </tr>\n",
       "    <tr>\n",
       "      <th>561</th>\n",
       "      <td>activities</td>\n",
       "      <td>risk</td>\n",
       "      <td>management</td>\n",
       "    </tr>\n",
       "    <tr>\n",
       "      <th>562</th>\n",
       "      <td>matrix</td>\n",
       "      <td>revised</td>\n",
       "      <td>stakeholders</td>\n",
       "    </tr>\n",
       "    <tr>\n",
       "      <th>563</th>\n",
       "      <td>plan</td>\n",
       "      <td>risk</td>\n",
       "      <td>management</td>\n",
       "    </tr>\n",
       "    <tr>\n",
       "      <th>564</th>\n",
       "      <td>scope</td>\n",
       "      <td>baselinedescribed</td>\n",
       "      <td>section</td>\n",
       "    </tr>\n",
       "  </tbody>\n",
       "</table>\n",
       "<p>546 rows × 3 columns</p>\n",
       "</div>"
      ],
      "text/plain": [
       "             Concepts           relation        object\n",
       "0              skills                are        common\n",
       "1        organization            perform        action\n",
       "3              inputs            project    management\n",
       "4                plan        stakeholder      register\n",
       "5              assets              tools    techniques\n",
       "..                ...                ...           ...\n",
       "560  responsibilities         conducting          risk\n",
       "561        activities               risk    management\n",
       "562            matrix            revised  stakeholders\n",
       "563              plan               risk    management\n",
       "564             scope  baselinedescribed       section\n",
       "\n",
       "[546 rows x 3 columns]"
      ]
     },
     "execution_count": 451,
     "metadata": {},
     "output_type": "execute_result"
    }
   ],
   "source": [
    "obj"
   ]
  },
  {
   "cell_type": "code",
   "execution_count": 452,
   "metadata": {
    "id": "tr_wnUZNrAsM",
    "outputId": "91c06bbe-05f4-4bba-b94b-30f9b4fc14a3"
   },
   "outputs": [
    {
     "data": {
      "text/html": [
       "<div>\n",
       "<style scoped>\n",
       "    .dataframe tbody tr th:only-of-type {\n",
       "        vertical-align: middle;\n",
       "    }\n",
       "\n",
       "    .dataframe tbody tr th {\n",
       "        vertical-align: top;\n",
       "    }\n",
       "\n",
       "    .dataframe thead th {\n",
       "        text-align: right;\n",
       "    }\n",
       "</style>\n",
       "<table border=\"1\" class=\"dataframe\">\n",
       "  <thead>\n",
       "    <tr style=\"text-align: right;\">\n",
       "      <th></th>\n",
       "      <th>Concepts</th>\n",
       "      <th>relation</th>\n",
       "      <th>Individual</th>\n",
       "    </tr>\n",
       "  </thead>\n",
       "  <tbody>\n",
       "    <tr>\n",
       "      <th>0</th>\n",
       "      <td>plan</td>\n",
       "      <td>stakeholder</td>\n",
       "      <td>register</td>\n",
       "    </tr>\n",
       "    <tr>\n",
       "      <th>1</th>\n",
       "      <td>plan</td>\n",
       "      <td>work</td>\n",
       "      <td>performance</td>\n",
       "    </tr>\n",
       "    <tr>\n",
       "      <th>2</th>\n",
       "      <td>plan</td>\n",
       "      <td>updates</td>\n",
       "      <td>project</td>\n",
       "    </tr>\n",
       "    <tr>\n",
       "      <th>3</th>\n",
       "      <td>plan</td>\n",
       "      <td>project</td>\n",
       "      <td>communications</td>\n",
       "    </tr>\n",
       "    <tr>\n",
       "      <th>4</th>\n",
       "      <td>information</td>\n",
       "      <td>needs</td>\n",
       "      <td>requirements</td>\n",
       "    </tr>\n",
       "    <tr>\n",
       "      <th>5</th>\n",
       "      <td>plan</td>\n",
       "      <td>communications</td>\n",
       "      <td>management</td>\n",
       "    </tr>\n",
       "    <tr>\n",
       "      <th>6</th>\n",
       "      <td>information</td>\n",
       "      <td>is</td>\n",
       "      <td>neededwhile</td>\n",
       "    </tr>\n",
       "    <tr>\n",
       "      <th>7</th>\n",
       "      <td>information</td>\n",
       "      <td>needs</td>\n",
       "      <td>methods</td>\n",
       "    </tr>\n",
       "    <tr>\n",
       "      <th>8</th>\n",
       "      <td>plan</td>\n",
       "      <td>provides</td>\n",
       "      <td>information</td>\n",
       "    </tr>\n",
       "    <tr>\n",
       "      <th>9</th>\n",
       "      <td>register</td>\n",
       "      <td>provides</td>\n",
       "      <td>information</td>\n",
       "    </tr>\n",
       "    <tr>\n",
       "      <th>10</th>\n",
       "      <td>information</td>\n",
       "      <td>needed</td>\n",
       "      <td>analysis</td>\n",
       "    </tr>\n",
       "    <tr>\n",
       "      <th>11</th>\n",
       "      <td>information</td>\n",
       "      <td>is</td>\n",
       "      <td>ef˜cient</td>\n",
       "    </tr>\n",
       "    <tr>\n",
       "      <th>12</th>\n",
       "      <td>plan</td>\n",
       "      <td>describes</td>\n",
       "      <td>project</td>\n",
       "    </tr>\n",
       "    <tr>\n",
       "      <th>13</th>\n",
       "      <td>technology</td>\n",
       "      <td>described</td>\n",
       "      <td>section</td>\n",
       "    </tr>\n",
       "    <tr>\n",
       "      <th>14</th>\n",
       "      <td>technology</td>\n",
       "      <td>is</td>\n",
       "      <td>important</td>\n",
       "    </tr>\n",
       "    <tr>\n",
       "      <th>15</th>\n",
       "      <td>information</td>\n",
       "      <td>including</td>\n",
       "      <td>status</td>\n",
       "    </tr>\n",
       "    <tr>\n",
       "      <th>16</th>\n",
       "      <td>plan</td>\n",
       "      <td>updatesthe</td>\n",
       "      <td>project</td>\n",
       "    </tr>\n",
       "    <tr>\n",
       "      <th>17</th>\n",
       "      <td>information</td>\n",
       "      <td>received</td>\n",
       "      <td>stakeholders</td>\n",
       "    </tr>\n",
       "    <tr>\n",
       "      <th>18</th>\n",
       "      <td>information</td>\n",
       "      <td>is</td>\n",
       "      <td>important</td>\n",
       "    </tr>\n",
       "    <tr>\n",
       "      <th>19</th>\n",
       "      <td>information</td>\n",
       "      <td>described</td>\n",
       "      <td>section</td>\n",
       "    </tr>\n",
       "    <tr>\n",
       "      <th>20</th>\n",
       "      <td>information</td>\n",
       "      <td>organizes</td>\n",
       "      <td>summarizes</td>\n",
       "    </tr>\n",
       "    <tr>\n",
       "      <th>21</th>\n",
       "      <td>plan</td>\n",
       "      <td>eg</td>\n",
       "      <td>stakeholders</td>\n",
       "    </tr>\n",
       "    <tr>\n",
       "      <th>22</th>\n",
       "      <td>plan</td>\n",
       "      <td>risk</td>\n",
       "      <td>responsesšthe</td>\n",
       "    </tr>\n",
       "    <tr>\n",
       "      <th>23</th>\n",
       "      <td>plan</td>\n",
       "      <td>responses</td>\n",
       "      <td>risks</td>\n",
       "    </tr>\n",
       "    <tr>\n",
       "      <th>24</th>\n",
       "      <td>plan</td>\n",
       "      <td>project</td>\n",
       "      <td>charter</td>\n",
       "    </tr>\n",
       "    <tr>\n",
       "      <th>25</th>\n",
       "      <td>plan</td>\n",
       "      <td>inputs</td>\n",
       "      <td>risk</td>\n",
       "    </tr>\n",
       "    <tr>\n",
       "      <th>26</th>\n",
       "      <td>plan</td>\n",
       "      <td>cost</td>\n",
       "      <td>management</td>\n",
       "    </tr>\n",
       "    <tr>\n",
       "      <th>27</th>\n",
       "      <td>plan</td>\n",
       "      <td>schedule</td>\n",
       "      <td>management</td>\n",
       "    </tr>\n",
       "    <tr>\n",
       "      <th>28</th>\n",
       "      <td>plan</td>\n",
       "      <td>scope</td>\n",
       "      <td>baseline</td>\n",
       "    </tr>\n",
       "    <tr>\n",
       "      <th>29</th>\n",
       "      <td>plan</td>\n",
       "      <td>risk</td>\n",
       "      <td>register</td>\n",
       "    </tr>\n",
       "    <tr>\n",
       "      <th>30</th>\n",
       "      <td>analysis</td>\n",
       "      <td>modeling</td>\n",
       "      <td>techniques</td>\n",
       "    </tr>\n",
       "    <tr>\n",
       "      <th>31</th>\n",
       "      <td>plan</td>\n",
       "      <td>is</td>\n",
       "      <td>vital</td>\n",
       "    </tr>\n",
       "    <tr>\n",
       "      <th>32</th>\n",
       "      <td>plan</td>\n",
       "      <td>risk</td>\n",
       "      <td>management</td>\n",
       "    </tr>\n",
       "    <tr>\n",
       "      <th>33</th>\n",
       "      <td>plan</td>\n",
       "      <td>project</td>\n",
       "      <td>management</td>\n",
       "    </tr>\n",
       "    <tr>\n",
       "      <th>34</th>\n",
       "      <td>plan</td>\n",
       "      <td>provides</td>\n",
       "      <td>baseline</td>\n",
       "    </tr>\n",
       "    <tr>\n",
       "      <th>35</th>\n",
       "      <td>context</td>\n",
       "      <td>depending</td>\n",
       "      <td>assessments</td>\n",
       "    </tr>\n",
       "    <tr>\n",
       "      <th>36</th>\n",
       "      <td>plan</td>\n",
       "      <td>attendees</td>\n",
       "      <td>meetings</td>\n",
       "    </tr>\n",
       "    <tr>\n",
       "      <th>37</th>\n",
       "      <td>plan</td>\n",
       "      <td>describes</td>\n",
       "      <td>risk</td>\n",
       "    </tr>\n",
       "    <tr>\n",
       "      <th>38</th>\n",
       "      <td>plan</td>\n",
       "      <td>clari˜es</td>\n",
       "      <td>responsibilities</td>\n",
       "    </tr>\n",
       "    <tr>\n",
       "      <th>39</th>\n",
       "      <td>analysis</td>\n",
       "      <td>requires</td>\n",
       "      <td>different</td>\n",
       "    </tr>\n",
       "    <tr>\n",
       "      <th>40</th>\n",
       "      <td>information</td>\n",
       "      <td>gathering</td>\n",
       "      <td>techniques</td>\n",
       "    </tr>\n",
       "    <tr>\n",
       "      <th>41</th>\n",
       "      <td>plan</td>\n",
       "      <td>provides</td>\n",
       "      <td>insight</td>\n",
       "    </tr>\n",
       "    <tr>\n",
       "      <th>42</th>\n",
       "      <td>plan</td>\n",
       "      <td>provides</td>\n",
       "      <td>guidance</td>\n",
       "    </tr>\n",
       "    <tr>\n",
       "      <th>43</th>\n",
       "      <td>information</td>\n",
       "      <td>including</td>\n",
       "      <td>commercial</td>\n",
       "    </tr>\n",
       "    <tr>\n",
       "      <th>44</th>\n",
       "      <td>information</td>\n",
       "      <td>gathering</td>\n",
       "      <td>techniquesexamples</td>\n",
       "    </tr>\n",
       "    <tr>\n",
       "      <th>45</th>\n",
       "      <td>analysis</td>\n",
       "      <td>explores</td>\n",
       "      <td>validity</td>\n",
       "    </tr>\n",
       "    <tr>\n",
       "      <th>46</th>\n",
       "      <td>information</td>\n",
       "      <td>contained</td>\n",
       "      <td>risk</td>\n",
       "    </tr>\n",
       "    <tr>\n",
       "      <th>47</th>\n",
       "      <td>analysis</td>\n",
       "      <td>assesses</td>\n",
       "      <td>priority</td>\n",
       "    </tr>\n",
       "    <tr>\n",
       "      <th>48</th>\n",
       "      <td>plan</td>\n",
       "      <td>risk</td>\n",
       "      <td>responses</td>\n",
       "    </tr>\n",
       "    <tr>\n",
       "      <th>49</th>\n",
       "      <td>matrix</td>\n",
       "      <td>revised</td>\n",
       "      <td>stakeholders</td>\n",
       "    </tr>\n",
       "  </tbody>\n",
       "</table>\n",
       "</div>"
      ],
      "text/plain": [
       "       Concepts        relation          Individual\n",
       "0          plan     stakeholder            register\n",
       "1          plan            work         performance\n",
       "2          plan         updates             project\n",
       "3          plan         project      communications\n",
       "4   information           needs        requirements\n",
       "5          plan  communications          management\n",
       "6   information              is         neededwhile\n",
       "7   information           needs             methods\n",
       "8          plan        provides         information\n",
       "9      register        provides         information\n",
       "10  information          needed            analysis\n",
       "11  information              is            ef˜cient\n",
       "12         plan       describes             project\n",
       "13   technology       described             section\n",
       "14   technology              is           important\n",
       "15  information       including              status\n",
       "16         plan      updatesthe             project\n",
       "17  information        received        stakeholders\n",
       "18  information              is           important\n",
       "19  information       described             section\n",
       "20  information       organizes          summarizes\n",
       "21         plan              eg        stakeholders\n",
       "22         plan            risk       responsesšthe\n",
       "23         plan       responses               risks\n",
       "24         plan         project             charter\n",
       "25         plan          inputs                risk\n",
       "26         plan            cost          management\n",
       "27         plan        schedule          management\n",
       "28         plan           scope            baseline\n",
       "29         plan            risk            register\n",
       "30     analysis        modeling          techniques\n",
       "31         plan              is               vital\n",
       "32         plan            risk          management\n",
       "33         plan         project          management\n",
       "34         plan        provides            baseline\n",
       "35      context       depending         assessments\n",
       "36         plan       attendees            meetings\n",
       "37         plan       describes                risk\n",
       "38         plan        clari˜es    responsibilities\n",
       "39     analysis        requires           different\n",
       "40  information       gathering          techniques\n",
       "41         plan        provides             insight\n",
       "42         plan        provides            guidance\n",
       "43  information       including          commercial\n",
       "44  information       gathering  techniquesexamples\n",
       "45     analysis        explores            validity\n",
       "46  information       contained                risk\n",
       "47     analysis        assesses            priority\n",
       "48         plan            risk           responses\n",
       "49       matrix         revised        stakeholders"
      ]
     },
     "execution_count": 452,
     "metadata": {},
     "output_type": "execute_result"
    }
   ],
   "source": [
    "df_data = obj[obj['Concepts'].isin(df_class_subclass['class'])].drop_duplicates().reset_index(drop=True)\n",
    "df_data.columns = ['Concepts','relation','Individual']\n",
    "df_data\n"
   ]
  },
  {
   "cell_type": "code",
   "execution_count": 454,
   "metadata": {
    "id": "aeM0s9mFrAsO",
    "outputId": "b977c87c-8b9f-46a7-876e-89e99d3ac49f"
   },
   "outputs": [
    {
     "data": {
      "text/html": [
       "<div>\n",
       "<style scoped>\n",
       "    .dataframe tbody tr th:only-of-type {\n",
       "        vertical-align: middle;\n",
       "    }\n",
       "\n",
       "    .dataframe tbody tr th {\n",
       "        vertical-align: top;\n",
       "    }\n",
       "\n",
       "    .dataframe thead th {\n",
       "        text-align: right;\n",
       "    }\n",
       "</style>\n",
       "<table border=\"1\" class=\"dataframe\">\n",
       "  <thead>\n",
       "    <tr style=\"text-align: right;\">\n",
       "      <th></th>\n",
       "      <th>Concepts</th>\n",
       "      <th>relation</th>\n",
       "      <th>Individual</th>\n",
       "      <th>Range</th>\n",
       "    </tr>\n",
       "  </thead>\n",
       "  <tbody>\n",
       "    <tr>\n",
       "      <th>0</th>\n",
       "      <td>plan</td>\n",
       "      <td>stakeholder</td>\n",
       "      <td>register</td>\n",
       "      <td>string</td>\n",
       "    </tr>\n",
       "    <tr>\n",
       "      <th>1</th>\n",
       "      <td>plan</td>\n",
       "      <td>work</td>\n",
       "      <td>performance</td>\n",
       "      <td>string</td>\n",
       "    </tr>\n",
       "    <tr>\n",
       "      <th>2</th>\n",
       "      <td>plan</td>\n",
       "      <td>updates</td>\n",
       "      <td>project</td>\n",
       "      <td>string</td>\n",
       "    </tr>\n",
       "    <tr>\n",
       "      <th>3</th>\n",
       "      <td>plan</td>\n",
       "      <td>project</td>\n",
       "      <td>communications</td>\n",
       "      <td>string</td>\n",
       "    </tr>\n",
       "    <tr>\n",
       "      <th>4</th>\n",
       "      <td>information</td>\n",
       "      <td>needs</td>\n",
       "      <td>requirements</td>\n",
       "      <td>string</td>\n",
       "    </tr>\n",
       "    <tr>\n",
       "      <th>5</th>\n",
       "      <td>plan</td>\n",
       "      <td>communications</td>\n",
       "      <td>management</td>\n",
       "      <td>string</td>\n",
       "    </tr>\n",
       "    <tr>\n",
       "      <th>6</th>\n",
       "      <td>information</td>\n",
       "      <td>is</td>\n",
       "      <td>neededwhile</td>\n",
       "      <td>string</td>\n",
       "    </tr>\n",
       "    <tr>\n",
       "      <th>7</th>\n",
       "      <td>information</td>\n",
       "      <td>needs</td>\n",
       "      <td>methods</td>\n",
       "      <td>string</td>\n",
       "    </tr>\n",
       "    <tr>\n",
       "      <th>8</th>\n",
       "      <td>plan</td>\n",
       "      <td>provides</td>\n",
       "      <td>information</td>\n",
       "      <td>string</td>\n",
       "    </tr>\n",
       "    <tr>\n",
       "      <th>9</th>\n",
       "      <td>register</td>\n",
       "      <td>provides</td>\n",
       "      <td>information</td>\n",
       "      <td>string</td>\n",
       "    </tr>\n",
       "    <tr>\n",
       "      <th>10</th>\n",
       "      <td>information</td>\n",
       "      <td>needed</td>\n",
       "      <td>analysis</td>\n",
       "      <td>string</td>\n",
       "    </tr>\n",
       "    <tr>\n",
       "      <th>11</th>\n",
       "      <td>information</td>\n",
       "      <td>is</td>\n",
       "      <td>ef˜cient</td>\n",
       "      <td>string</td>\n",
       "    </tr>\n",
       "    <tr>\n",
       "      <th>12</th>\n",
       "      <td>plan</td>\n",
       "      <td>describes</td>\n",
       "      <td>project</td>\n",
       "      <td>string</td>\n",
       "    </tr>\n",
       "    <tr>\n",
       "      <th>13</th>\n",
       "      <td>technology</td>\n",
       "      <td>described</td>\n",
       "      <td>section</td>\n",
       "      <td>string</td>\n",
       "    </tr>\n",
       "    <tr>\n",
       "      <th>14</th>\n",
       "      <td>technology</td>\n",
       "      <td>is</td>\n",
       "      <td>important</td>\n",
       "      <td>string</td>\n",
       "    </tr>\n",
       "    <tr>\n",
       "      <th>15</th>\n",
       "      <td>information</td>\n",
       "      <td>including</td>\n",
       "      <td>status</td>\n",
       "      <td>string</td>\n",
       "    </tr>\n",
       "    <tr>\n",
       "      <th>16</th>\n",
       "      <td>plan</td>\n",
       "      <td>updatesthe</td>\n",
       "      <td>project</td>\n",
       "      <td>string</td>\n",
       "    </tr>\n",
       "    <tr>\n",
       "      <th>17</th>\n",
       "      <td>information</td>\n",
       "      <td>received</td>\n",
       "      <td>stakeholders</td>\n",
       "      <td>string</td>\n",
       "    </tr>\n",
       "    <tr>\n",
       "      <th>18</th>\n",
       "      <td>information</td>\n",
       "      <td>is</td>\n",
       "      <td>important</td>\n",
       "      <td>string</td>\n",
       "    </tr>\n",
       "    <tr>\n",
       "      <th>19</th>\n",
       "      <td>information</td>\n",
       "      <td>described</td>\n",
       "      <td>section</td>\n",
       "      <td>string</td>\n",
       "    </tr>\n",
       "    <tr>\n",
       "      <th>20</th>\n",
       "      <td>information</td>\n",
       "      <td>organizes</td>\n",
       "      <td>summarizes</td>\n",
       "      <td>string</td>\n",
       "    </tr>\n",
       "    <tr>\n",
       "      <th>21</th>\n",
       "      <td>plan</td>\n",
       "      <td>eg</td>\n",
       "      <td>stakeholders</td>\n",
       "      <td>string</td>\n",
       "    </tr>\n",
       "    <tr>\n",
       "      <th>22</th>\n",
       "      <td>plan</td>\n",
       "      <td>risk</td>\n",
       "      <td>responsesšthe</td>\n",
       "      <td>string</td>\n",
       "    </tr>\n",
       "    <tr>\n",
       "      <th>23</th>\n",
       "      <td>plan</td>\n",
       "      <td>responses</td>\n",
       "      <td>risks</td>\n",
       "      <td>string</td>\n",
       "    </tr>\n",
       "    <tr>\n",
       "      <th>24</th>\n",
       "      <td>plan</td>\n",
       "      <td>project</td>\n",
       "      <td>charter</td>\n",
       "      <td>string</td>\n",
       "    </tr>\n",
       "    <tr>\n",
       "      <th>25</th>\n",
       "      <td>plan</td>\n",
       "      <td>inputs</td>\n",
       "      <td>risk</td>\n",
       "      <td>string</td>\n",
       "    </tr>\n",
       "    <tr>\n",
       "      <th>26</th>\n",
       "      <td>plan</td>\n",
       "      <td>cost</td>\n",
       "      <td>management</td>\n",
       "      <td>string</td>\n",
       "    </tr>\n",
       "    <tr>\n",
       "      <th>27</th>\n",
       "      <td>plan</td>\n",
       "      <td>schedule</td>\n",
       "      <td>management</td>\n",
       "      <td>string</td>\n",
       "    </tr>\n",
       "    <tr>\n",
       "      <th>28</th>\n",
       "      <td>plan</td>\n",
       "      <td>scope</td>\n",
       "      <td>baseline</td>\n",
       "      <td>string</td>\n",
       "    </tr>\n",
       "    <tr>\n",
       "      <th>29</th>\n",
       "      <td>plan</td>\n",
       "      <td>risk</td>\n",
       "      <td>register</td>\n",
       "      <td>string</td>\n",
       "    </tr>\n",
       "    <tr>\n",
       "      <th>30</th>\n",
       "      <td>analysis</td>\n",
       "      <td>modeling</td>\n",
       "      <td>techniques</td>\n",
       "      <td>string</td>\n",
       "    </tr>\n",
       "    <tr>\n",
       "      <th>31</th>\n",
       "      <td>plan</td>\n",
       "      <td>is</td>\n",
       "      <td>vital</td>\n",
       "      <td>string</td>\n",
       "    </tr>\n",
       "    <tr>\n",
       "      <th>32</th>\n",
       "      <td>plan</td>\n",
       "      <td>risk</td>\n",
       "      <td>management</td>\n",
       "      <td>string</td>\n",
       "    </tr>\n",
       "    <tr>\n",
       "      <th>33</th>\n",
       "      <td>plan</td>\n",
       "      <td>project</td>\n",
       "      <td>management</td>\n",
       "      <td>string</td>\n",
       "    </tr>\n",
       "    <tr>\n",
       "      <th>34</th>\n",
       "      <td>plan</td>\n",
       "      <td>provides</td>\n",
       "      <td>baseline</td>\n",
       "      <td>string</td>\n",
       "    </tr>\n",
       "    <tr>\n",
       "      <th>35</th>\n",
       "      <td>context</td>\n",
       "      <td>depending</td>\n",
       "      <td>assessments</td>\n",
       "      <td>string</td>\n",
       "    </tr>\n",
       "    <tr>\n",
       "      <th>36</th>\n",
       "      <td>plan</td>\n",
       "      <td>attendees</td>\n",
       "      <td>meetings</td>\n",
       "      <td>string</td>\n",
       "    </tr>\n",
       "    <tr>\n",
       "      <th>37</th>\n",
       "      <td>plan</td>\n",
       "      <td>describes</td>\n",
       "      <td>risk</td>\n",
       "      <td>string</td>\n",
       "    </tr>\n",
       "    <tr>\n",
       "      <th>38</th>\n",
       "      <td>plan</td>\n",
       "      <td>clari˜es</td>\n",
       "      <td>responsibilities</td>\n",
       "      <td>string</td>\n",
       "    </tr>\n",
       "    <tr>\n",
       "      <th>39</th>\n",
       "      <td>analysis</td>\n",
       "      <td>requires</td>\n",
       "      <td>different</td>\n",
       "      <td>string</td>\n",
       "    </tr>\n",
       "    <tr>\n",
       "      <th>40</th>\n",
       "      <td>information</td>\n",
       "      <td>gathering</td>\n",
       "      <td>techniques</td>\n",
       "      <td>string</td>\n",
       "    </tr>\n",
       "    <tr>\n",
       "      <th>41</th>\n",
       "      <td>plan</td>\n",
       "      <td>provides</td>\n",
       "      <td>insight</td>\n",
       "      <td>string</td>\n",
       "    </tr>\n",
       "    <tr>\n",
       "      <th>42</th>\n",
       "      <td>plan</td>\n",
       "      <td>provides</td>\n",
       "      <td>guidance</td>\n",
       "      <td>string</td>\n",
       "    </tr>\n",
       "    <tr>\n",
       "      <th>43</th>\n",
       "      <td>information</td>\n",
       "      <td>including</td>\n",
       "      <td>commercial</td>\n",
       "      <td>string</td>\n",
       "    </tr>\n",
       "    <tr>\n",
       "      <th>44</th>\n",
       "      <td>information</td>\n",
       "      <td>gathering</td>\n",
       "      <td>techniquesexamples</td>\n",
       "      <td>string</td>\n",
       "    </tr>\n",
       "    <tr>\n",
       "      <th>45</th>\n",
       "      <td>analysis</td>\n",
       "      <td>explores</td>\n",
       "      <td>validity</td>\n",
       "      <td>string</td>\n",
       "    </tr>\n",
       "    <tr>\n",
       "      <th>46</th>\n",
       "      <td>information</td>\n",
       "      <td>contained</td>\n",
       "      <td>risk</td>\n",
       "      <td>string</td>\n",
       "    </tr>\n",
       "    <tr>\n",
       "      <th>47</th>\n",
       "      <td>analysis</td>\n",
       "      <td>assesses</td>\n",
       "      <td>priority</td>\n",
       "      <td>string</td>\n",
       "    </tr>\n",
       "    <tr>\n",
       "      <th>48</th>\n",
       "      <td>plan</td>\n",
       "      <td>risk</td>\n",
       "      <td>responses</td>\n",
       "      <td>string</td>\n",
       "    </tr>\n",
       "    <tr>\n",
       "      <th>49</th>\n",
       "      <td>matrix</td>\n",
       "      <td>revised</td>\n",
       "      <td>stakeholders</td>\n",
       "      <td>string</td>\n",
       "    </tr>\n",
       "  </tbody>\n",
       "</table>\n",
       "</div>"
      ],
      "text/plain": [
       "       Concepts        relation          Individual   Range\n",
       "0          plan     stakeholder            register  string\n",
       "1          plan            work         performance  string\n",
       "2          plan         updates             project  string\n",
       "3          plan         project      communications  string\n",
       "4   information           needs        requirements  string\n",
       "5          plan  communications          management  string\n",
       "6   information              is         neededwhile  string\n",
       "7   information           needs             methods  string\n",
       "8          plan        provides         information  string\n",
       "9      register        provides         information  string\n",
       "10  information          needed            analysis  string\n",
       "11  information              is            ef˜cient  string\n",
       "12         plan       describes             project  string\n",
       "13   technology       described             section  string\n",
       "14   technology              is           important  string\n",
       "15  information       including              status  string\n",
       "16         plan      updatesthe             project  string\n",
       "17  information        received        stakeholders  string\n",
       "18  information              is           important  string\n",
       "19  information       described             section  string\n",
       "20  information       organizes          summarizes  string\n",
       "21         plan              eg        stakeholders  string\n",
       "22         plan            risk       responsesšthe  string\n",
       "23         plan       responses               risks  string\n",
       "24         plan         project             charter  string\n",
       "25         plan          inputs                risk  string\n",
       "26         plan            cost          management  string\n",
       "27         plan        schedule          management  string\n",
       "28         plan           scope            baseline  string\n",
       "29         plan            risk            register  string\n",
       "30     analysis        modeling          techniques  string\n",
       "31         plan              is               vital  string\n",
       "32         plan            risk          management  string\n",
       "33         plan         project          management  string\n",
       "34         plan        provides            baseline  string\n",
       "35      context       depending         assessments  string\n",
       "36         plan       attendees            meetings  string\n",
       "37         plan       describes                risk  string\n",
       "38         plan        clari˜es    responsibilities  string\n",
       "39     analysis        requires           different  string\n",
       "40  information       gathering          techniques  string\n",
       "41         plan        provides             insight  string\n",
       "42         plan        provides            guidance  string\n",
       "43  information       including          commercial  string\n",
       "44  information       gathering  techniquesexamples  string\n",
       "45     analysis        explores            validity  string\n",
       "46  information       contained                risk  string\n",
       "47     analysis        assesses            priority  string\n",
       "48         plan            risk           responses  string\n",
       "49       matrix         revised        stakeholders  string"
      ]
     },
     "execution_count": 454,
     "metadata": {},
     "output_type": "execute_result"
    }
   ],
   "source": [
    "df_data['Range'] = \"string\"\n",
    "df_data.drop_duplicates().reset_index(drop=True)"
   ]
  },
  {
   "cell_type": "markdown",
   "metadata": {
    "id": "z2aVUDKfJCdA"
   },
   "source": [
    "# OWL with rdflib"
   ]
  },
  {
   "cell_type": "code",
   "execution_count": 575,
   "metadata": {
    "id": "1gC2gy1PrAsP"
   },
   "outputs": [],
   "source": [
    "from rdflib.namespace import DC, DCTERMS, DOAP, FOAF, OWL, RDF, RDFS, SKOS, VOID, XMLNS, XSD\n",
    "from rdflib import URIRef, BNode, Literal, Namespace, Graph\n",
    "from rdflib.extras import describer \n",
    "import pandas as pd "
   ]
  },
  {
   "cell_type": "markdown",
   "metadata": {
    "id": "O_-Es4uRJMYT"
   },
   "source": [
    "- create a Graph"
   ]
  },
  {
   "cell_type": "code",
   "execution_count": 591,
   "metadata": {
    "id": "C6xML4tdrAsQ",
    "outputId": "c045489a-faf8-4008-a52a-68390359509a"
   },
   "outputs": [
    {
     "data": {
      "text/plain": [
       "<Graph identifier=N27d2dd7dc8cd497eb368040495413813 (<class 'rdflib.graph.Graph'>)>"
      ]
     },
     "execution_count": 591,
     "metadata": {},
     "output_type": "execute_result"
    }
   ],
   "source": [
    "g= Graph()\n",
    "g.bind(\"owl\",OWL)\n",
    "g.bind(\"pr\",\"http://example.com/h#\")#Bind prefix to namespace\n",
    "ns_url = \"http://example.com/h#\"\n",
    "# Create an RDF URI node to use as the subject for multiple triples\n",
    "g.add((URIRef('http://example.com/h'), RDF.type, OWL.Ontology ))"
   ]
  },
  {
   "cell_type": "markdown",
   "metadata": {
    "id": "fWn579VjJXwN"
   },
   "source": [
    "- we start by create concepts"
   ]
  },
  {
   "cell_type": "markdown",
   "metadata": {
    "id": "tEi7681fJdVX"
   },
   "source": [
    "## Create concept"
   ]
  },
  {
   "cell_type": "code",
   "execution_count": 592,
   "metadata": {
    "colab": {
     "base_uri": "https://localhost:8080/",
     "height": 197
    },
    "id": "KGBGsvbhrAsR",
    "outputId": "3eeb7290-2a3e-4318-ff7e-b5736911552e"
   },
   "outputs": [],
   "source": [
    "for c in df_concept:\n",
    "    cl = URIRef(ns_url+c.replace(\" \",\"_\"))\n",
    "    g.add((cl, RDF.type, OWL.Class))    # add tag"
   ]
  },
  {
   "cell_type": "markdown",
   "metadata": {
    "id": "sLwu3l1pJiwJ"
   },
   "source": [
    "## create individuel and concept"
   ]
  },
  {
   "cell_type": "code",
   "execution_count": null,
   "metadata": {
    "id": "-HmSPlPHrAsS"
   },
   "outputs": [],
   "source": [
    "for i in range(len(df_data)):\n",
    "    c = URIRef(ns_url+df_data.loc[i,'Concepts'].replace(\" \",\"_\"))\n",
    "    ind =URIRef(ns_url+df_data.loc[i,'Individual'].replace(\" \",\"_\"))\n",
    "    g.add((ind,RDF.type,c))\n",
    "for i,process in enumerate(dicto.keys()):\n",
    "    for j,el in enumerate(dicto[process].keys()):\n",
    "        for k,element in enumerate(dicto[process][el]):\n",
    "            c= URIRef(ns_url+process.replace(\" \",\"_\"))\n",
    "            ind = URIRef(ns_url+element.replace(\" \",\"_\")[9:])\n",
    "            relation =  URIRef(ns_url+(\"has \"+str(el)).replace(\" \",\"_\"))\n",
    "            is_relation = URIRef(ns_url+(\"is \"+str(el)).replace(\" \",\"_\"))\n",
    "            definition = URIRef(ns_url+dicto[process][el][element][0].replace(\"•\",\"\").replace(\" \",\"_\"))\n",
    "            g.add((c,RDF.type,OWL.Class))\n",
    "           \n",
    "            g.add((relation,RDF.type,OWL.DatatypeProperty))\n",
    "            g.add((relation,RDFS.domain,c))\n",
    "            g.add((relation,RDFS.range,XSD.string))\n",
    "            g.add((is_relation,RDFS.domain,ind))\n",
    "            g.add((relation,RDFS.range,XSD.string))\n",
    "            g.add((ind,RDF.type,OWL.NamedIndividual))\n",
    "            if dicto[process][el][element][1]!=\"No section\":\n",
    "                annotation = URIRef(ns_url+dicto[process][el][element][1].replace(\" \",\"_\"))\n",
    "                g.add((ind,RDFS.comment,annotation))\n",
    "            g.add((ind,RDFS.isDefinedBy,definition))\n",
    "            g.add((ind,RDF.type,c))\n",
    "            \n",
    "                \n",
    "                #g.add((ind,RDFS.comment,str(annotation)))\n",
    "            g.add((c,relation,ind))\n",
    "            g.add((ind,is_relation,c))\n"
   ]
  },
  {
   "cell_type": "code",
   "execution_count": 594,
   "metadata": {
    "id": "5PbMqBrKrAsT"
   },
   "outputs": [],
   "source": [
    "df_class_subclass=df_class_subclass.rename(columns={'class':'concept','subclass':'parent concept'})"
   ]
  },
  {
   "cell_type": "markdown",
   "metadata": {
    "id": "3Q8aiVmyKL88"
   },
   "source": [
    "# create Relation data property"
   ]
  },
  {
   "cell_type": "code",
   "execution_count": 595,
   "metadata": {
    "id": "rXT2OCeBrAsU"
   },
   "outputs": [],
   "source": [
    "for c in df_concept :\n",
    "    cl = URIRef(ns_url+c.replace(\" \",\"_\"))\n",
    "    g.add((cl, RDF.type, OWL.Class))\n",
    "    for i in df_class_subclass.index:\n",
    "        if df_class_subclass.loc[i,'concept'] == c:\n",
    "            clp = URIRef(ns_url+df_class_subclass.loc[i,'parent concept'].replace(\" \",\"_\"))\n",
    "            g.add((cl, RDFS.subClassOf, clp))"
   ]
  },
  {
   "cell_type": "code",
   "execution_count": 596,
   "metadata": {
    "id": "nhRDlh8ErAsU"
   },
   "outputs": [],
   "source": [
    "for i in range(len(df_data)):\n",
    "    relation = URIRef(ns_url+df_data.loc[i,'relation'].replace(\" \",\"_\"))\n",
    "    concept = URIRef(ns_url+df_data.loc[i,'Concepts'].replace(\" \",\"_\"))\n",
    "    g.add((relation,RDF.type,OWL.DatatypeProperty))\n",
    "    g.add((relation,RDFS.domain,concept))\n",
    "    g.add((relation,RDFS.range,XSD.string))"
   ]
  },
  {
   "cell_type": "code",
   "execution_count": 597,
   "metadata": {
    "id": "hdldsE4ErAsV"
   },
   "outputs": [],
   "source": [
    "with open('final.owl', 'w', encoding='utf-8') as output:\n",
    "    output.write(g.serialize(format=\"pretty-xml\"))"
   ]
  }
 ],
 "metadata": {
  "colab": {
   "name": "ontology_learning_2.ipynb",
   "provenance": []
  },
  "kernelspec": {
   "display_name": "Python 3",
   "language": "python",
   "name": "python3"
  },
  "language_info": {
   "codemirror_mode": {
    "name": "ipython",
    "version": 3
   },
   "file_extension": ".py",
   "mimetype": "text/x-python",
   "name": "python",
   "nbconvert_exporter": "python",
   "pygments_lexer": "ipython3",
   "version": "3.8.5"
  }
 },
 "nbformat": 4,
 "nbformat_minor": 4
}
